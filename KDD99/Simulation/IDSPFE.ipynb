{
 "metadata": {
  "language_info": {
   "codemirror_mode": {
    "name": "ipython",
    "version": 3
   },
   "file_extension": ".py",
   "mimetype": "text/x-python",
   "name": "python",
   "nbconvert_exporter": "python",
   "pygments_lexer": "ipython3",
   "version": "3.8.5"
  },
  "orig_nbformat": 2,
  "kernelspec": {
   "name": "python385jvsc74a57bd0182e09728bd8525f7909c33d38136eaae016a98fb93c2bc984d79d8b9bd7da6b",
   "display_name": "Python 3.8.5 64-bit ('base': conda)"
  },
  "metadata": {
   "interpreter": {
    "hash": "6da9447c87bca1eac3406f1113b005ecfb3f3749af3bb6d59cf19a3a37a53662"
   }
  }
 },
 "nbformat": 4,
 "nbformat_minor": 2,
 "cells": [
  {
   "cell_type": "code",
   "execution_count": 1,
   "metadata": {},
   "outputs": [],
   "source": [
    "import numpy as np\n",
    "import pandas as pd\n",
    "import matplotlib.pyplot as plt\n",
    "from sklearn.preprocessing import LabelEncoder,OneHotEncoder\n",
    "from sklearn import preprocessing\n",
    "from sklearn.feature_selection import RFE\n",
    "from sklearn.tree import DecisionTreeClassifier\n",
    "from sklearn.model_selection import train_test_split # Import train_test_split function\n",
    "import warnings\n",
    "warnings.filterwarnings(\"ignore\")"
   ]
  },
  {
   "cell_type": "code",
   "execution_count": 2,
   "metadata": {},
   "outputs": [],
   "source": [
    "\n",
    "MydataTraining = pd.read_csv('train.csv')\n"
   ]
  },
  {
   "cell_type": "code",
   "execution_count": 3,
   "metadata": {},
   "outputs": [],
   "source": [
    "MydataTesting=pd.read_csv('test.csv')"
   ]
  },
  {
   "cell_type": "code",
   "execution_count": 4,
   "metadata": {},
   "outputs": [
    {
     "output_type": "execute_result",
     "data": {
      "text/plain": [
       "   0  tcp  http  SF  181  5450  0.1  0.2  0.3  0.4  ...  9.1  1.2  0.22  \\\n",
       "0  0  tcp  http  SF  239   486    0    0    0    0  ...   19  1.0   0.0   \n",
       "1  0  tcp  http  SF  235  1337    0    0    0    0  ...   29  1.0   0.0   \n",
       "2  0  tcp  http  SF  219  1337    0    0    0    0  ...   39  1.0   0.0   \n",
       "3  0  tcp  http  SF  217  2032    0    0    0    0  ...   49  1.0   0.0   \n",
       "4  0  tcp  http  SF  217  2032    0    0    0    0  ...   59  1.0   0.0   \n",
       "\n",
       "   0.11.1  0.23  0.24  0.25  0.26  0.27  normal.  \n",
       "0    0.05   0.0   0.0   0.0   0.0   0.0  normal.  \n",
       "1    0.03   0.0   0.0   0.0   0.0   0.0  normal.  \n",
       "2    0.03   0.0   0.0   0.0   0.0   0.0  normal.  \n",
       "3    0.02   0.0   0.0   0.0   0.0   0.0  normal.  \n",
       "4    0.02   0.0   0.0   0.0   0.0   0.0  normal.  \n",
       "\n",
       "[5 rows x 42 columns]"
      ],
      "text/html": "<div>\n<style scoped>\n    .dataframe tbody tr th:only-of-type {\n        vertical-align: middle;\n    }\n\n    .dataframe tbody tr th {\n        vertical-align: top;\n    }\n\n    .dataframe thead th {\n        text-align: right;\n    }\n</style>\n<table border=\"1\" class=\"dataframe\">\n  <thead>\n    <tr style=\"text-align: right;\">\n      <th></th>\n      <th>0</th>\n      <th>tcp</th>\n      <th>http</th>\n      <th>SF</th>\n      <th>181</th>\n      <th>5450</th>\n      <th>0.1</th>\n      <th>0.2</th>\n      <th>0.3</th>\n      <th>0.4</th>\n      <th>...</th>\n      <th>9.1</th>\n      <th>1.2</th>\n      <th>0.22</th>\n      <th>0.11.1</th>\n      <th>0.23</th>\n      <th>0.24</th>\n      <th>0.25</th>\n      <th>0.26</th>\n      <th>0.27</th>\n      <th>normal.</th>\n    </tr>\n  </thead>\n  <tbody>\n    <tr>\n      <th>0</th>\n      <td>0</td>\n      <td>tcp</td>\n      <td>http</td>\n      <td>SF</td>\n      <td>239</td>\n      <td>486</td>\n      <td>0</td>\n      <td>0</td>\n      <td>0</td>\n      <td>0</td>\n      <td>...</td>\n      <td>19</td>\n      <td>1.0</td>\n      <td>0.0</td>\n      <td>0.05</td>\n      <td>0.0</td>\n      <td>0.0</td>\n      <td>0.0</td>\n      <td>0.0</td>\n      <td>0.0</td>\n      <td>normal.</td>\n    </tr>\n    <tr>\n      <th>1</th>\n      <td>0</td>\n      <td>tcp</td>\n      <td>http</td>\n      <td>SF</td>\n      <td>235</td>\n      <td>1337</td>\n      <td>0</td>\n      <td>0</td>\n      <td>0</td>\n      <td>0</td>\n      <td>...</td>\n      <td>29</td>\n      <td>1.0</td>\n      <td>0.0</td>\n      <td>0.03</td>\n      <td>0.0</td>\n      <td>0.0</td>\n      <td>0.0</td>\n      <td>0.0</td>\n      <td>0.0</td>\n      <td>normal.</td>\n    </tr>\n    <tr>\n      <th>2</th>\n      <td>0</td>\n      <td>tcp</td>\n      <td>http</td>\n      <td>SF</td>\n      <td>219</td>\n      <td>1337</td>\n      <td>0</td>\n      <td>0</td>\n      <td>0</td>\n      <td>0</td>\n      <td>...</td>\n      <td>39</td>\n      <td>1.0</td>\n      <td>0.0</td>\n      <td>0.03</td>\n      <td>0.0</td>\n      <td>0.0</td>\n      <td>0.0</td>\n      <td>0.0</td>\n      <td>0.0</td>\n      <td>normal.</td>\n    </tr>\n    <tr>\n      <th>3</th>\n      <td>0</td>\n      <td>tcp</td>\n      <td>http</td>\n      <td>SF</td>\n      <td>217</td>\n      <td>2032</td>\n      <td>0</td>\n      <td>0</td>\n      <td>0</td>\n      <td>0</td>\n      <td>...</td>\n      <td>49</td>\n      <td>1.0</td>\n      <td>0.0</td>\n      <td>0.02</td>\n      <td>0.0</td>\n      <td>0.0</td>\n      <td>0.0</td>\n      <td>0.0</td>\n      <td>0.0</td>\n      <td>normal.</td>\n    </tr>\n    <tr>\n      <th>4</th>\n      <td>0</td>\n      <td>tcp</td>\n      <td>http</td>\n      <td>SF</td>\n      <td>217</td>\n      <td>2032</td>\n      <td>0</td>\n      <td>0</td>\n      <td>0</td>\n      <td>0</td>\n      <td>...</td>\n      <td>59</td>\n      <td>1.0</td>\n      <td>0.0</td>\n      <td>0.02</td>\n      <td>0.0</td>\n      <td>0.0</td>\n      <td>0.0</td>\n      <td>0.0</td>\n      <td>0.0</td>\n      <td>normal.</td>\n    </tr>\n  </tbody>\n</table>\n<p>5 rows × 42 columns</p>\n</div>"
     },
     "metadata": {},
     "execution_count": 4
    }
   ],
   "source": [
    "MydataTraining.head()"
   ]
  },
  {
   "cell_type": "code",
   "execution_count": 5,
   "metadata": {},
   "outputs": [
    {
     "output_type": "execute_result",
     "data": {
      "text/plain": [
       "   0  udp  private  SF  105  146  0.1  0.2  0.3  0.4  ...  254  1.00.1  0.01  \\\n",
       "0  0  udp  private  SF  105  146    0    0    0    0  ...  254     1.0  0.01   \n",
       "1  0  udp  private  SF  105  146    0    0    0    0  ...  254     1.0  0.01   \n",
       "2  0  udp  private  SF  105  146    0    0    0    0  ...  254     1.0  0.01   \n",
       "3  0  udp  private  SF  105  146    0    0    0    0  ...  254     1.0  0.01   \n",
       "4  0  udp  private  SF  105  146    0    0    0    0  ...  255     1.0  0.00   \n",
       "\n",
       "   0.00.6  0.00.7  0.00.8  0.00.9  0.00.10  0.00.11         normal.  \n",
       "0    0.00     0.0     0.0     0.0      0.0      0.0         normal.  \n",
       "1    0.00     0.0     0.0     0.0      0.0      0.0         normal.  \n",
       "2    0.00     0.0     0.0     0.0      0.0      0.0  snmpgetattack.  \n",
       "3    0.01     0.0     0.0     0.0      0.0      0.0  snmpgetattack.  \n",
       "4    0.01     0.0     0.0     0.0      0.0      0.0  snmpgetattack.  \n",
       "\n",
       "[5 rows x 42 columns]"
      ],
      "text/html": "<div>\n<style scoped>\n    .dataframe tbody tr th:only-of-type {\n        vertical-align: middle;\n    }\n\n    .dataframe tbody tr th {\n        vertical-align: top;\n    }\n\n    .dataframe thead th {\n        text-align: right;\n    }\n</style>\n<table border=\"1\" class=\"dataframe\">\n  <thead>\n    <tr style=\"text-align: right;\">\n      <th></th>\n      <th>0</th>\n      <th>udp</th>\n      <th>private</th>\n      <th>SF</th>\n      <th>105</th>\n      <th>146</th>\n      <th>0.1</th>\n      <th>0.2</th>\n      <th>0.3</th>\n      <th>0.4</th>\n      <th>...</th>\n      <th>254</th>\n      <th>1.00.1</th>\n      <th>0.01</th>\n      <th>0.00.6</th>\n      <th>0.00.7</th>\n      <th>0.00.8</th>\n      <th>0.00.9</th>\n      <th>0.00.10</th>\n      <th>0.00.11</th>\n      <th>normal.</th>\n    </tr>\n  </thead>\n  <tbody>\n    <tr>\n      <th>0</th>\n      <td>0</td>\n      <td>udp</td>\n      <td>private</td>\n      <td>SF</td>\n      <td>105</td>\n      <td>146</td>\n      <td>0</td>\n      <td>0</td>\n      <td>0</td>\n      <td>0</td>\n      <td>...</td>\n      <td>254</td>\n      <td>1.0</td>\n      <td>0.01</td>\n      <td>0.00</td>\n      <td>0.0</td>\n      <td>0.0</td>\n      <td>0.0</td>\n      <td>0.0</td>\n      <td>0.0</td>\n      <td>normal.</td>\n    </tr>\n    <tr>\n      <th>1</th>\n      <td>0</td>\n      <td>udp</td>\n      <td>private</td>\n      <td>SF</td>\n      <td>105</td>\n      <td>146</td>\n      <td>0</td>\n      <td>0</td>\n      <td>0</td>\n      <td>0</td>\n      <td>...</td>\n      <td>254</td>\n      <td>1.0</td>\n      <td>0.01</td>\n      <td>0.00</td>\n      <td>0.0</td>\n      <td>0.0</td>\n      <td>0.0</td>\n      <td>0.0</td>\n      <td>0.0</td>\n      <td>normal.</td>\n    </tr>\n    <tr>\n      <th>2</th>\n      <td>0</td>\n      <td>udp</td>\n      <td>private</td>\n      <td>SF</td>\n      <td>105</td>\n      <td>146</td>\n      <td>0</td>\n      <td>0</td>\n      <td>0</td>\n      <td>0</td>\n      <td>...</td>\n      <td>254</td>\n      <td>1.0</td>\n      <td>0.01</td>\n      <td>0.00</td>\n      <td>0.0</td>\n      <td>0.0</td>\n      <td>0.0</td>\n      <td>0.0</td>\n      <td>0.0</td>\n      <td>snmpgetattack.</td>\n    </tr>\n    <tr>\n      <th>3</th>\n      <td>0</td>\n      <td>udp</td>\n      <td>private</td>\n      <td>SF</td>\n      <td>105</td>\n      <td>146</td>\n      <td>0</td>\n      <td>0</td>\n      <td>0</td>\n      <td>0</td>\n      <td>...</td>\n      <td>254</td>\n      <td>1.0</td>\n      <td>0.01</td>\n      <td>0.01</td>\n      <td>0.0</td>\n      <td>0.0</td>\n      <td>0.0</td>\n      <td>0.0</td>\n      <td>0.0</td>\n      <td>snmpgetattack.</td>\n    </tr>\n    <tr>\n      <th>4</th>\n      <td>0</td>\n      <td>udp</td>\n      <td>private</td>\n      <td>SF</td>\n      <td>105</td>\n      <td>146</td>\n      <td>0</td>\n      <td>0</td>\n      <td>0</td>\n      <td>0</td>\n      <td>...</td>\n      <td>255</td>\n      <td>1.0</td>\n      <td>0.00</td>\n      <td>0.01</td>\n      <td>0.0</td>\n      <td>0.0</td>\n      <td>0.0</td>\n      <td>0.0</td>\n      <td>0.0</td>\n      <td>snmpgetattack.</td>\n    </tr>\n  </tbody>\n</table>\n<p>5 rows × 42 columns</p>\n</div>"
     },
     "metadata": {},
     "execution_count": 5
    }
   ],
   "source": [
    "MydataTesting.head()"
   ]
  },
  {
   "cell_type": "code",
   "execution_count": 6,
   "metadata": {},
   "outputs": [
    {
     "output_type": "stream",
     "name": "stdout",
     "text": [
      "Shape of The Training Data: (494020, 42)\n"
     ]
    }
   ],
   "source": [
    "print(\"Shape of The Training Data:\", MydataTraining.shape)\n"
   ]
  },
  {
   "cell_type": "code",
   "execution_count": 7,
   "metadata": {},
   "outputs": [
    {
     "output_type": "stream",
     "name": "stdout",
     "text": [
      "Shape of The Testing Data: (311028, 42)\n"
     ]
    }
   ],
   "source": [
    "print(\"Shape of The Testing Data:\", MydataTesting.shape)"
   ]
  },
  {
   "cell_type": "code",
   "execution_count": 8,
   "metadata": {},
   "outputs": [],
   "source": [
    "\n",
    "attr_list = ['duration', 'protocol_type', 'service', 'flag', 'src_bytes', 'dst_bytes', 'land', 'wrong_fragment',\n",
    "             'urgent', 'hot', 'num_failed_logins', 'logged_in', 'num_compromised', 'root_shell',\n",
    "             'su_attempted', 'num_root', 'num_file_creations', 'num_shells', 'num_access_files',\n",
    "             'num_outbound_cmds',\n",
    "             'is_host_login', 'is_guest_login', 'count', 'srv_count', 'serror_rate', 'srv_serror_rate',\n",
    "             'rerror_rate',\n",
    "             'srv_rerror_rate', 'same_srv_rate', 'diff_srv_rate', 'srv_diff_host_rate', 'dst_host_count',\n",
    "             'dst_host_srv_count', 'dst_host_same_srv_rate', 'dst_host_diff_srv_rate',\n",
    "             'dst_host_same_src_port_rate',\n",
    "             'dst_host_srv_diff_host_rate', 'dst_host_serror_rate', 'dst_host_srv_serror_rate',\n",
    "             'dst_host_rerror_rate',\n",
    "             'dst_host_srv_rerror_rate','attack']"
   ]
  },
  {
   "cell_type": "code",
   "execution_count": 9,
   "metadata": {},
   "outputs": [],
   "source": [
    "MydataTraining.attr_list = attr_list"
   ]
  },
  {
   "cell_type": "code",
   "execution_count": 10,
   "metadata": {},
   "outputs": [
    {
     "output_type": "execute_result",
     "data": {
      "text/plain": [
       "        0  tcp  http  SF  181  5450  0.1  0.2  0.3  0.4  ...  9.1  1.2  0.22  \\\n",
       "0       0  tcp  http  SF  239   486    0    0    0    0  ...   19  1.0   0.0   \n",
       "1       0  tcp  http  SF  235  1337    0    0    0    0  ...   29  1.0   0.0   \n",
       "2       0  tcp  http  SF  219  1337    0    0    0    0  ...   39  1.0   0.0   \n",
       "3       0  tcp  http  SF  217  2032    0    0    0    0  ...   49  1.0   0.0   \n",
       "4       0  tcp  http  SF  217  2032    0    0    0    0  ...   59  1.0   0.0   \n",
       "...    ..  ...   ...  ..  ...   ...  ...  ...  ...  ...  ...  ...  ...   ...   \n",
       "494015  0  tcp  http  SF  310  1881    0    0    0    0  ...  255  1.0   0.0   \n",
       "494016  0  tcp  http  SF  282  2286    0    0    0    0  ...  255  1.0   0.0   \n",
       "494017  0  tcp  http  SF  203  1200    0    0    0    0  ...  255  1.0   0.0   \n",
       "494018  0  tcp  http  SF  291  1200    0    0    0    0  ...  255  1.0   0.0   \n",
       "494019  0  tcp  http  SF  219  1234    0    0    0    0  ...  255  1.0   0.0   \n",
       "\n",
       "        0.11.1  0.23  0.24  0.25  0.26  0.27  normal.  \n",
       "0         0.05  0.00  0.00  0.00   0.0   0.0  normal.  \n",
       "1         0.03  0.00  0.00  0.00   0.0   0.0  normal.  \n",
       "2         0.03  0.00  0.00  0.00   0.0   0.0  normal.  \n",
       "3         0.02  0.00  0.00  0.00   0.0   0.0  normal.  \n",
       "4         0.02  0.00  0.00  0.00   0.0   0.0  normal.  \n",
       "...        ...   ...   ...   ...   ...   ...      ...  \n",
       "494015    0.01  0.05  0.00  0.01   0.0   0.0  normal.  \n",
       "494016    0.17  0.05  0.00  0.01   0.0   0.0  normal.  \n",
       "494017    0.06  0.05  0.06  0.01   0.0   0.0  normal.  \n",
       "494018    0.04  0.05  0.04  0.01   0.0   0.0  normal.  \n",
       "494019    0.17  0.05  0.00  0.01   0.0   0.0  normal.  \n",
       "\n",
       "[494020 rows x 42 columns]"
      ],
      "text/html": "<div>\n<style scoped>\n    .dataframe tbody tr th:only-of-type {\n        vertical-align: middle;\n    }\n\n    .dataframe tbody tr th {\n        vertical-align: top;\n    }\n\n    .dataframe thead th {\n        text-align: right;\n    }\n</style>\n<table border=\"1\" class=\"dataframe\">\n  <thead>\n    <tr style=\"text-align: right;\">\n      <th></th>\n      <th>0</th>\n      <th>tcp</th>\n      <th>http</th>\n      <th>SF</th>\n      <th>181</th>\n      <th>5450</th>\n      <th>0.1</th>\n      <th>0.2</th>\n      <th>0.3</th>\n      <th>0.4</th>\n      <th>...</th>\n      <th>9.1</th>\n      <th>1.2</th>\n      <th>0.22</th>\n      <th>0.11.1</th>\n      <th>0.23</th>\n      <th>0.24</th>\n      <th>0.25</th>\n      <th>0.26</th>\n      <th>0.27</th>\n      <th>normal.</th>\n    </tr>\n  </thead>\n  <tbody>\n    <tr>\n      <th>0</th>\n      <td>0</td>\n      <td>tcp</td>\n      <td>http</td>\n      <td>SF</td>\n      <td>239</td>\n      <td>486</td>\n      <td>0</td>\n      <td>0</td>\n      <td>0</td>\n      <td>0</td>\n      <td>...</td>\n      <td>19</td>\n      <td>1.0</td>\n      <td>0.0</td>\n      <td>0.05</td>\n      <td>0.00</td>\n      <td>0.00</td>\n      <td>0.00</td>\n      <td>0.0</td>\n      <td>0.0</td>\n      <td>normal.</td>\n    </tr>\n    <tr>\n      <th>1</th>\n      <td>0</td>\n      <td>tcp</td>\n      <td>http</td>\n      <td>SF</td>\n      <td>235</td>\n      <td>1337</td>\n      <td>0</td>\n      <td>0</td>\n      <td>0</td>\n      <td>0</td>\n      <td>...</td>\n      <td>29</td>\n      <td>1.0</td>\n      <td>0.0</td>\n      <td>0.03</td>\n      <td>0.00</td>\n      <td>0.00</td>\n      <td>0.00</td>\n      <td>0.0</td>\n      <td>0.0</td>\n      <td>normal.</td>\n    </tr>\n    <tr>\n      <th>2</th>\n      <td>0</td>\n      <td>tcp</td>\n      <td>http</td>\n      <td>SF</td>\n      <td>219</td>\n      <td>1337</td>\n      <td>0</td>\n      <td>0</td>\n      <td>0</td>\n      <td>0</td>\n      <td>...</td>\n      <td>39</td>\n      <td>1.0</td>\n      <td>0.0</td>\n      <td>0.03</td>\n      <td>0.00</td>\n      <td>0.00</td>\n      <td>0.00</td>\n      <td>0.0</td>\n      <td>0.0</td>\n      <td>normal.</td>\n    </tr>\n    <tr>\n      <th>3</th>\n      <td>0</td>\n      <td>tcp</td>\n      <td>http</td>\n      <td>SF</td>\n      <td>217</td>\n      <td>2032</td>\n      <td>0</td>\n      <td>0</td>\n      <td>0</td>\n      <td>0</td>\n      <td>...</td>\n      <td>49</td>\n      <td>1.0</td>\n      <td>0.0</td>\n      <td>0.02</td>\n      <td>0.00</td>\n      <td>0.00</td>\n      <td>0.00</td>\n      <td>0.0</td>\n      <td>0.0</td>\n      <td>normal.</td>\n    </tr>\n    <tr>\n      <th>4</th>\n      <td>0</td>\n      <td>tcp</td>\n      <td>http</td>\n      <td>SF</td>\n      <td>217</td>\n      <td>2032</td>\n      <td>0</td>\n      <td>0</td>\n      <td>0</td>\n      <td>0</td>\n      <td>...</td>\n      <td>59</td>\n      <td>1.0</td>\n      <td>0.0</td>\n      <td>0.02</td>\n      <td>0.00</td>\n      <td>0.00</td>\n      <td>0.00</td>\n      <td>0.0</td>\n      <td>0.0</td>\n      <td>normal.</td>\n    </tr>\n    <tr>\n      <th>...</th>\n      <td>...</td>\n      <td>...</td>\n      <td>...</td>\n      <td>...</td>\n      <td>...</td>\n      <td>...</td>\n      <td>...</td>\n      <td>...</td>\n      <td>...</td>\n      <td>...</td>\n      <td>...</td>\n      <td>...</td>\n      <td>...</td>\n      <td>...</td>\n      <td>...</td>\n      <td>...</td>\n      <td>...</td>\n      <td>...</td>\n      <td>...</td>\n      <td>...</td>\n      <td>...</td>\n    </tr>\n    <tr>\n      <th>494015</th>\n      <td>0</td>\n      <td>tcp</td>\n      <td>http</td>\n      <td>SF</td>\n      <td>310</td>\n      <td>1881</td>\n      <td>0</td>\n      <td>0</td>\n      <td>0</td>\n      <td>0</td>\n      <td>...</td>\n      <td>255</td>\n      <td>1.0</td>\n      <td>0.0</td>\n      <td>0.01</td>\n      <td>0.05</td>\n      <td>0.00</td>\n      <td>0.01</td>\n      <td>0.0</td>\n      <td>0.0</td>\n      <td>normal.</td>\n    </tr>\n    <tr>\n      <th>494016</th>\n      <td>0</td>\n      <td>tcp</td>\n      <td>http</td>\n      <td>SF</td>\n      <td>282</td>\n      <td>2286</td>\n      <td>0</td>\n      <td>0</td>\n      <td>0</td>\n      <td>0</td>\n      <td>...</td>\n      <td>255</td>\n      <td>1.0</td>\n      <td>0.0</td>\n      <td>0.17</td>\n      <td>0.05</td>\n      <td>0.00</td>\n      <td>0.01</td>\n      <td>0.0</td>\n      <td>0.0</td>\n      <td>normal.</td>\n    </tr>\n    <tr>\n      <th>494017</th>\n      <td>0</td>\n      <td>tcp</td>\n      <td>http</td>\n      <td>SF</td>\n      <td>203</td>\n      <td>1200</td>\n      <td>0</td>\n      <td>0</td>\n      <td>0</td>\n      <td>0</td>\n      <td>...</td>\n      <td>255</td>\n      <td>1.0</td>\n      <td>0.0</td>\n      <td>0.06</td>\n      <td>0.05</td>\n      <td>0.06</td>\n      <td>0.01</td>\n      <td>0.0</td>\n      <td>0.0</td>\n      <td>normal.</td>\n    </tr>\n    <tr>\n      <th>494018</th>\n      <td>0</td>\n      <td>tcp</td>\n      <td>http</td>\n      <td>SF</td>\n      <td>291</td>\n      <td>1200</td>\n      <td>0</td>\n      <td>0</td>\n      <td>0</td>\n      <td>0</td>\n      <td>...</td>\n      <td>255</td>\n      <td>1.0</td>\n      <td>0.0</td>\n      <td>0.04</td>\n      <td>0.05</td>\n      <td>0.04</td>\n      <td>0.01</td>\n      <td>0.0</td>\n      <td>0.0</td>\n      <td>normal.</td>\n    </tr>\n    <tr>\n      <th>494019</th>\n      <td>0</td>\n      <td>tcp</td>\n      <td>http</td>\n      <td>SF</td>\n      <td>219</td>\n      <td>1234</td>\n      <td>0</td>\n      <td>0</td>\n      <td>0</td>\n      <td>0</td>\n      <td>...</td>\n      <td>255</td>\n      <td>1.0</td>\n      <td>0.0</td>\n      <td>0.17</td>\n      <td>0.05</td>\n      <td>0.00</td>\n      <td>0.01</td>\n      <td>0.0</td>\n      <td>0.0</td>\n      <td>normal.</td>\n    </tr>\n  </tbody>\n</table>\n<p>494020 rows × 42 columns</p>\n</div>"
     },
     "metadata": {},
     "execution_count": 10
    }
   ],
   "source": [
    "MydataTraining"
   ]
  },
  {
   "cell_type": "code",
   "execution_count": 11,
   "metadata": {},
   "outputs": [],
   "source": [
    "#let's assign each column to its attribute\n",
    "MydataTraining= pd.read_csv(\"train.csv\", header=None, names = attr_list)\n",
    "MydataTesting = pd.read_csv(\"test.csv\", header=None, names = attr_list)"
   ]
  },
  {
   "cell_type": "code",
   "execution_count": 12,
   "metadata": {},
   "outputs": [
    {
     "output_type": "execute_result",
     "data": {
      "text/plain": [
       "        duration protocol_type service flag  src_bytes  dst_bytes  land  \\\n",
       "0              0           tcp    http   SF        181       5450     0   \n",
       "1              0           tcp    http   SF        239        486     0   \n",
       "2              0           tcp    http   SF        235       1337     0   \n",
       "3              0           tcp    http   SF        219       1337     0   \n",
       "4              0           tcp    http   SF        217       2032     0   \n",
       "...          ...           ...     ...  ...        ...        ...   ...   \n",
       "494016         0           tcp    http   SF        310       1881     0   \n",
       "494017         0           tcp    http   SF        282       2286     0   \n",
       "494018         0           tcp    http   SF        203       1200     0   \n",
       "494019         0           tcp    http   SF        291       1200     0   \n",
       "494020         0           tcp    http   SF        219       1234     0   \n",
       "\n",
       "        wrong_fragment  urgent  hot  ...  dst_host_srv_count  \\\n",
       "0                    0       0    0  ...                   9   \n",
       "1                    0       0    0  ...                  19   \n",
       "2                    0       0    0  ...                  29   \n",
       "3                    0       0    0  ...                  39   \n",
       "4                    0       0    0  ...                  49   \n",
       "...                ...     ...  ...  ...                 ...   \n",
       "494016               0       0    0  ...                 255   \n",
       "494017               0       0    0  ...                 255   \n",
       "494018               0       0    0  ...                 255   \n",
       "494019               0       0    0  ...                 255   \n",
       "494020               0       0    0  ...                 255   \n",
       "\n",
       "        dst_host_same_srv_rate  dst_host_diff_srv_rate  \\\n",
       "0                          1.0                     0.0   \n",
       "1                          1.0                     0.0   \n",
       "2                          1.0                     0.0   \n",
       "3                          1.0                     0.0   \n",
       "4                          1.0                     0.0   \n",
       "...                        ...                     ...   \n",
       "494016                     1.0                     0.0   \n",
       "494017                     1.0                     0.0   \n",
       "494018                     1.0                     0.0   \n",
       "494019                     1.0                     0.0   \n",
       "494020                     1.0                     0.0   \n",
       "\n",
       "        dst_host_same_src_port_rate  dst_host_srv_diff_host_rate  \\\n",
       "0                              0.11                         0.00   \n",
       "1                              0.05                         0.00   \n",
       "2                              0.03                         0.00   \n",
       "3                              0.03                         0.00   \n",
       "4                              0.02                         0.00   \n",
       "...                             ...                          ...   \n",
       "494016                         0.01                         0.05   \n",
       "494017                         0.17                         0.05   \n",
       "494018                         0.06                         0.05   \n",
       "494019                         0.04                         0.05   \n",
       "494020                         0.17                         0.05   \n",
       "\n",
       "        dst_host_serror_rate  dst_host_srv_serror_rate  dst_host_rerror_rate  \\\n",
       "0                       0.00                      0.00                   0.0   \n",
       "1                       0.00                      0.00                   0.0   \n",
       "2                       0.00                      0.00                   0.0   \n",
       "3                       0.00                      0.00                   0.0   \n",
       "4                       0.00                      0.00                   0.0   \n",
       "...                      ...                       ...                   ...   \n",
       "494016                  0.00                      0.01                   0.0   \n",
       "494017                  0.00                      0.01                   0.0   \n",
       "494018                  0.06                      0.01                   0.0   \n",
       "494019                  0.04                      0.01                   0.0   \n",
       "494020                  0.00                      0.01                   0.0   \n",
       "\n",
       "        dst_host_srv_rerror_rate   attack  \n",
       "0                            0.0  normal.  \n",
       "1                            0.0  normal.  \n",
       "2                            0.0  normal.  \n",
       "3                            0.0  normal.  \n",
       "4                            0.0  normal.  \n",
       "...                          ...      ...  \n",
       "494016                       0.0  normal.  \n",
       "494017                       0.0  normal.  \n",
       "494018                       0.0  normal.  \n",
       "494019                       0.0  normal.  \n",
       "494020                       0.0  normal.  \n",
       "\n",
       "[494021 rows x 42 columns]"
      ],
      "text/html": "<div>\n<style scoped>\n    .dataframe tbody tr th:only-of-type {\n        vertical-align: middle;\n    }\n\n    .dataframe tbody tr th {\n        vertical-align: top;\n    }\n\n    .dataframe thead th {\n        text-align: right;\n    }\n</style>\n<table border=\"1\" class=\"dataframe\">\n  <thead>\n    <tr style=\"text-align: right;\">\n      <th></th>\n      <th>duration</th>\n      <th>protocol_type</th>\n      <th>service</th>\n      <th>flag</th>\n      <th>src_bytes</th>\n      <th>dst_bytes</th>\n      <th>land</th>\n      <th>wrong_fragment</th>\n      <th>urgent</th>\n      <th>hot</th>\n      <th>...</th>\n      <th>dst_host_srv_count</th>\n      <th>dst_host_same_srv_rate</th>\n      <th>dst_host_diff_srv_rate</th>\n      <th>dst_host_same_src_port_rate</th>\n      <th>dst_host_srv_diff_host_rate</th>\n      <th>dst_host_serror_rate</th>\n      <th>dst_host_srv_serror_rate</th>\n      <th>dst_host_rerror_rate</th>\n      <th>dst_host_srv_rerror_rate</th>\n      <th>attack</th>\n    </tr>\n  </thead>\n  <tbody>\n    <tr>\n      <th>0</th>\n      <td>0</td>\n      <td>tcp</td>\n      <td>http</td>\n      <td>SF</td>\n      <td>181</td>\n      <td>5450</td>\n      <td>0</td>\n      <td>0</td>\n      <td>0</td>\n      <td>0</td>\n      <td>...</td>\n      <td>9</td>\n      <td>1.0</td>\n      <td>0.0</td>\n      <td>0.11</td>\n      <td>0.00</td>\n      <td>0.00</td>\n      <td>0.00</td>\n      <td>0.0</td>\n      <td>0.0</td>\n      <td>normal.</td>\n    </tr>\n    <tr>\n      <th>1</th>\n      <td>0</td>\n      <td>tcp</td>\n      <td>http</td>\n      <td>SF</td>\n      <td>239</td>\n      <td>486</td>\n      <td>0</td>\n      <td>0</td>\n      <td>0</td>\n      <td>0</td>\n      <td>...</td>\n      <td>19</td>\n      <td>1.0</td>\n      <td>0.0</td>\n      <td>0.05</td>\n      <td>0.00</td>\n      <td>0.00</td>\n      <td>0.00</td>\n      <td>0.0</td>\n      <td>0.0</td>\n      <td>normal.</td>\n    </tr>\n    <tr>\n      <th>2</th>\n      <td>0</td>\n      <td>tcp</td>\n      <td>http</td>\n      <td>SF</td>\n      <td>235</td>\n      <td>1337</td>\n      <td>0</td>\n      <td>0</td>\n      <td>0</td>\n      <td>0</td>\n      <td>...</td>\n      <td>29</td>\n      <td>1.0</td>\n      <td>0.0</td>\n      <td>0.03</td>\n      <td>0.00</td>\n      <td>0.00</td>\n      <td>0.00</td>\n      <td>0.0</td>\n      <td>0.0</td>\n      <td>normal.</td>\n    </tr>\n    <tr>\n      <th>3</th>\n      <td>0</td>\n      <td>tcp</td>\n      <td>http</td>\n      <td>SF</td>\n      <td>219</td>\n      <td>1337</td>\n      <td>0</td>\n      <td>0</td>\n      <td>0</td>\n      <td>0</td>\n      <td>...</td>\n      <td>39</td>\n      <td>1.0</td>\n      <td>0.0</td>\n      <td>0.03</td>\n      <td>0.00</td>\n      <td>0.00</td>\n      <td>0.00</td>\n      <td>0.0</td>\n      <td>0.0</td>\n      <td>normal.</td>\n    </tr>\n    <tr>\n      <th>4</th>\n      <td>0</td>\n      <td>tcp</td>\n      <td>http</td>\n      <td>SF</td>\n      <td>217</td>\n      <td>2032</td>\n      <td>0</td>\n      <td>0</td>\n      <td>0</td>\n      <td>0</td>\n      <td>...</td>\n      <td>49</td>\n      <td>1.0</td>\n      <td>0.0</td>\n      <td>0.02</td>\n      <td>0.00</td>\n      <td>0.00</td>\n      <td>0.00</td>\n      <td>0.0</td>\n      <td>0.0</td>\n      <td>normal.</td>\n    </tr>\n    <tr>\n      <th>...</th>\n      <td>...</td>\n      <td>...</td>\n      <td>...</td>\n      <td>...</td>\n      <td>...</td>\n      <td>...</td>\n      <td>...</td>\n      <td>...</td>\n      <td>...</td>\n      <td>...</td>\n      <td>...</td>\n      <td>...</td>\n      <td>...</td>\n      <td>...</td>\n      <td>...</td>\n      <td>...</td>\n      <td>...</td>\n      <td>...</td>\n      <td>...</td>\n      <td>...</td>\n      <td>...</td>\n    </tr>\n    <tr>\n      <th>494016</th>\n      <td>0</td>\n      <td>tcp</td>\n      <td>http</td>\n      <td>SF</td>\n      <td>310</td>\n      <td>1881</td>\n      <td>0</td>\n      <td>0</td>\n      <td>0</td>\n      <td>0</td>\n      <td>...</td>\n      <td>255</td>\n      <td>1.0</td>\n      <td>0.0</td>\n      <td>0.01</td>\n      <td>0.05</td>\n      <td>0.00</td>\n      <td>0.01</td>\n      <td>0.0</td>\n      <td>0.0</td>\n      <td>normal.</td>\n    </tr>\n    <tr>\n      <th>494017</th>\n      <td>0</td>\n      <td>tcp</td>\n      <td>http</td>\n      <td>SF</td>\n      <td>282</td>\n      <td>2286</td>\n      <td>0</td>\n      <td>0</td>\n      <td>0</td>\n      <td>0</td>\n      <td>...</td>\n      <td>255</td>\n      <td>1.0</td>\n      <td>0.0</td>\n      <td>0.17</td>\n      <td>0.05</td>\n      <td>0.00</td>\n      <td>0.01</td>\n      <td>0.0</td>\n      <td>0.0</td>\n      <td>normal.</td>\n    </tr>\n    <tr>\n      <th>494018</th>\n      <td>0</td>\n      <td>tcp</td>\n      <td>http</td>\n      <td>SF</td>\n      <td>203</td>\n      <td>1200</td>\n      <td>0</td>\n      <td>0</td>\n      <td>0</td>\n      <td>0</td>\n      <td>...</td>\n      <td>255</td>\n      <td>1.0</td>\n      <td>0.0</td>\n      <td>0.06</td>\n      <td>0.05</td>\n      <td>0.06</td>\n      <td>0.01</td>\n      <td>0.0</td>\n      <td>0.0</td>\n      <td>normal.</td>\n    </tr>\n    <tr>\n      <th>494019</th>\n      <td>0</td>\n      <td>tcp</td>\n      <td>http</td>\n      <td>SF</td>\n      <td>291</td>\n      <td>1200</td>\n      <td>0</td>\n      <td>0</td>\n      <td>0</td>\n      <td>0</td>\n      <td>...</td>\n      <td>255</td>\n      <td>1.0</td>\n      <td>0.0</td>\n      <td>0.04</td>\n      <td>0.05</td>\n      <td>0.04</td>\n      <td>0.01</td>\n      <td>0.0</td>\n      <td>0.0</td>\n      <td>normal.</td>\n    </tr>\n    <tr>\n      <th>494020</th>\n      <td>0</td>\n      <td>tcp</td>\n      <td>http</td>\n      <td>SF</td>\n      <td>219</td>\n      <td>1234</td>\n      <td>0</td>\n      <td>0</td>\n      <td>0</td>\n      <td>0</td>\n      <td>...</td>\n      <td>255</td>\n      <td>1.0</td>\n      <td>0.0</td>\n      <td>0.17</td>\n      <td>0.05</td>\n      <td>0.00</td>\n      <td>0.01</td>\n      <td>0.0</td>\n      <td>0.0</td>\n      <td>normal.</td>\n    </tr>\n  </tbody>\n</table>\n<p>494021 rows × 42 columns</p>\n</div>"
     },
     "metadata": {},
     "execution_count": 12
    }
   ],
   "source": [
    "MydataTraining"
   ]
  },
  {
   "cell_type": "code",
   "execution_count": 13,
   "metadata": {},
   "outputs": [
    {
     "output_type": "stream",
     "name": "stdout",
     "text": [
      "Type Distribution For The Training Set : \nsmurf.              280790\nneptune.            107201\nnormal.              97278\nback.                 2203\nsatan.                1589\nipsweep.              1247\nportsweep.            1040\nwarezclient.          1020\nteardrop.              979\npod.                   264\nnmap.                  231\nguess_passwd.           53\nbuffer_overflow.        30\nland.                   21\nwarezmaster.            20\nimap.                   12\nrootkit.                10\nloadmodule.              9\nftp_write.               8\nmultihop.                7\nphf.                     4\nperl.                    3\nspy.                     2\nName: attack, dtype: int64\n\nType Distribution For The Test set:\nsmurf.              164091\nnormal.              60593\nneptune.             58001\nsnmpgetattack.        7741\nmailbomb.             5000\nguess_passwd.         4367\nsnmpguess.            2406\nsatan.                1633\nwarezmaster.          1602\nback.                 1098\nmscan.                1053\napache2.               794\nprocesstable.          759\nsaint.                 736\nportsweep.             354\nipsweep.               306\nhttptunnel.            158\npod.                    87\nnmap.                   84\nbuffer_overflow.        22\nmultihop.               18\nnamed.                  17\nsendmail.               17\nps.                     16\nxterm.                  13\nrootkit.                13\nteardrop.               12\nland.                    9\nxlock.                   9\nxsnoop.                  4\nftp_write.               3\nphf.                     2\nperl.                    2\nworm.                    2\nsqlattack.               2\nloadmodule.              2\nudpstorm.                2\nimap.                    1\nName: attack, dtype: int64\n"
     ]
    }
   ],
   "source": [
    "#The following code allows you to count to sum values of each data\n",
    "print('Type Distribution For The Training Set : ')\n",
    "print(MydataTraining['attack'].value_counts())\n",
    "print()\n",
    "print('Type Distribution For The Test set:')\n",
    "print(MydataTesting['attack'].value_counts())"
   ]
  },
  {
   "cell_type": "code",
   "execution_count": 14,
   "metadata": {},
   "outputs": [
    {
     "output_type": "stream",
     "name": "stdout",
     "text": [
      "Training set:\nThe'protocol_type' has 3 categories\nThe'service' has 66 categories\nThe'flag' has 11 categories\nThe'attack' has 23 categories\n\nDistribution of categories in service:\necr_i      281400\nprivate    110893\nhttp        64293\nsmtp         9723\nother        7237\nName: service, dtype: int64\n"
     ]
    }
   ],
   "source": [
    "\n",
    "# 1- We search among this dataset for categorical that are object : rotocol_type (column 2), service (column 3), flag (column 4). to convert them later to numeric\n",
    "# 2- We count and print the sum of categories of each type we selected \n",
    "print('Training set:')\n",
    "for attr_list in MydataTraining.columns:\n",
    "    if MydataTraining[attr_list].dtypes == 'object' :\n",
    "        unique_category = len(MydataTraining[attr_list].unique())\n",
    "        print(\"The'{attr_list}' has {unique_category} categories\".format(attr_list=attr_list,unique_category=unique_category))\n",
    "\n",
    "# 3-  we test this analyze on the service column \n",
    "print()\n",
    "print('Distribution of categories in service:')\n",
    "print(MydataTraining['service'].value_counts().sort_values(ascending=False).head())"
   ]
  },
  {
   "cell_type": "code",
   "execution_count": 15,
   "metadata": {},
   "outputs": [
    {
     "output_type": "stream",
     "name": "stdout",
     "text": [
      "Test set:\n",
      "The 'protocol_type' has 3 categories\n",
      "The 'service' has 65 categories\n",
      "The 'flag' has 11 categories\n",
      "The 'attack' has 38 categories\n"
     ]
    }
   ],
   "source": [
    "# Test set\n",
    "print('Test set:')\n",
    "for attr_list in MydataTesting.columns:\n",
    "    if MydataTesting[attr_list].dtypes == 'object' :\n",
    "        unique_category = len(MydataTesting[attr_list].unique())\n",
    "        print(\"The '{attr_list}' has {unique_category} categories\".format(attr_list=attr_list, unique_category=unique_category))"
   ]
  },
  {
   "cell_type": "code",
   "execution_count": 16,
   "metadata": {},
   "outputs": [],
   "source": [
    "# insert code to get a list of categorical columns into a variable, categorical_columns\n",
    "categorical_columns=['protocol_type', 'service', 'flag'] \n",
    " # Get the categorical values into a 2D numpy array\n",
    "MydataTraining_categorical_values = MydataTraining[categorical_columns]\n",
    "MydataTesting_categorical_values = MydataTesting[categorical_columns]"
   ]
  },
  {
   "cell_type": "code",
   "execution_count": 17,
   "metadata": {},
   "outputs": [
    {
     "output_type": "execute_result",
     "data": {
      "text/plain": [
       "  protocol_type service flag\n",
       "0           tcp    http   SF\n",
       "1           tcp    http   SF\n",
       "2           tcp    http   SF\n",
       "3           tcp    http   SF\n",
       "4           tcp    http   SF"
      ],
      "text/html": "<div>\n<style scoped>\n    .dataframe tbody tr th:only-of-type {\n        vertical-align: middle;\n    }\n\n    .dataframe tbody tr th {\n        vertical-align: top;\n    }\n\n    .dataframe thead th {\n        text-align: right;\n    }\n</style>\n<table border=\"1\" class=\"dataframe\">\n  <thead>\n    <tr style=\"text-align: right;\">\n      <th></th>\n      <th>protocol_type</th>\n      <th>service</th>\n      <th>flag</th>\n    </tr>\n  </thead>\n  <tbody>\n    <tr>\n      <th>0</th>\n      <td>tcp</td>\n      <td>http</td>\n      <td>SF</td>\n    </tr>\n    <tr>\n      <th>1</th>\n      <td>tcp</td>\n      <td>http</td>\n      <td>SF</td>\n    </tr>\n    <tr>\n      <th>2</th>\n      <td>tcp</td>\n      <td>http</td>\n      <td>SF</td>\n    </tr>\n    <tr>\n      <th>3</th>\n      <td>tcp</td>\n      <td>http</td>\n      <td>SF</td>\n    </tr>\n    <tr>\n      <th>4</th>\n      <td>tcp</td>\n      <td>http</td>\n      <td>SF</td>\n    </tr>\n  </tbody>\n</table>\n</div>"
     },
     "metadata": {},
     "execution_count": 17
    }
   ],
   "source": [
    "MydataTraining_categorical_values.head()"
   ]
  },
  {
   "cell_type": "code",
   "execution_count": 18,
   "metadata": {},
   "outputs": [
    {
     "output_type": "stream",
     "name": "stdout",
     "text": [
      "['Protocol_type_icmp', 'Protocol_type_tcp', 'Protocol_type_udp', 'service_IRC', 'service_X11', 'service_Z39_50', 'service_auth', 'service_bgp', 'service_courier', 'service_csnet_ns', 'service_ctf', 'service_daytime', 'service_discard', 'service_domain', 'service_domain_u', 'service_echo', 'service_eco_i', 'service_ecr_i', 'service_efs', 'service_exec', 'service_finger', 'service_ftp', 'service_ftp_data', 'service_gopher', 'service_hostnames', 'service_http', 'service_http_443', 'service_imap4', 'service_iso_tsap', 'service_klogin', 'service_kshell', 'service_ldap', 'service_link', 'service_login', 'service_mtp', 'service_name', 'service_netbios_dgm', 'service_netbios_ns', 'service_netbios_ssn', 'service_netstat', 'service_nnsp', 'service_nntp', 'service_ntp_u', 'service_other', 'service_pm_dump', 'service_pop_2', 'service_pop_3', 'service_printer', 'service_private', 'service_red_i', 'service_remote_job', 'service_rje', 'service_shell', 'service_smtp', 'service_sql_net', 'service_ssh', 'service_sunrpc', 'service_supdup', 'service_systat', 'service_telnet', 'service_tftp_u', 'service_tim_i', 'service_time', 'service_urh_i', 'service_urp_i', 'service_uucp', 'service_uucp_path', 'service_vmnet', 'service_whois', 'flag_OTH', 'flag_REJ', 'flag_RSTO', 'flag_RSTOS0', 'flag_RSTR', 'flag_S0', 'flag_S1', 'flag_S2', 'flag_S3', 'flag_SF', 'flag_SH']\n"
     ]
    }
   ],
   "source": [
    "# Split the categorical columns to specific types :\n",
    "# 1-protocol type\n",
    "unique_protocol=sorted(MydataTraining.protocol_type.unique())\n",
    "Original_Protocol = 'Protocol_type_'\n",
    "unique_protocol2=[Original_Protocol + x for x in unique_protocol]\n",
    "# 2-service\n",
    "unique_service=sorted(MydataTraining.service.unique())\n",
    "Original_Service = 'service_'\n",
    "unique_service2=[Original_Service + x for x in unique_service]\n",
    "# 3-flag\n",
    "unique_flag=sorted(MydataTraining.flag.unique())\n",
    "Original_Flag = 'flag_'\n",
    "unique_flag2=[Original_Flag + x for x in unique_flag]\n",
    "# put together\n",
    "# The splitted types are also added to the dataset : \n",
    "AllCols=unique_protocol2 + unique_service2 + unique_flag2\n",
    "print(AllCols)\n",
    "\n",
    "#do same for test set\n",
    "unique_service_test=sorted(MydataTesting.service.unique())\n",
    "unique_service2_test=[Original_Service + x for x in unique_service_test]\n",
    "testdumcols=unique_protocol2 + unique_service2_test + unique_flag2\n"
   ]
  },
  {
   "cell_type": "code",
   "execution_count": 19,
   "metadata": {},
   "outputs": [
    {
     "output_type": "stream",
     "name": "stdout",
     "text": [
      "   protocol_type  service  flag\n0              1       22     9\n1              1       22     9\n2              1       22     9\n3              1       22     9\n4              1       22     9\n"
     ]
    }
   ],
   "source": [
    "#Transform categorical features into numbers using LabelEncoder()\n",
    "MydataTraining_categorical_values_enc=MydataTraining_categorical_values.apply(LabelEncoder().fit_transform)\n",
    "print(MydataTraining_categorical_values_enc.head())\n",
    "# test set\n",
    "MydataTesting_categorical_values_enc=MydataTesting_categorical_values.apply(LabelEncoder().fit_transform)"
   ]
  },
  {
   "cell_type": "code",
   "execution_count": 20,
   "metadata": {},
   "outputs": [
    {
     "output_type": "execute_result",
     "data": {
      "text/plain": [
       "(494021, 42)"
      ]
     },
     "metadata": {},
     "execution_count": 20
    }
   ],
   "source": [
    "MydataTraining.shape"
   ]
  },
  {
   "cell_type": "code",
   "execution_count": 32,
   "metadata": {},
   "outputs": [
    {
     "output_type": "execute_result",
     "data": {
      "text/plain": [
       "    duration protocol_type service flag  src_bytes  dst_bytes  land  \\\n",
       "0          0           tcp    http   SF        181       5450     0   \n",
       "1          0           tcp    http   SF        239        486     0   \n",
       "2          0           tcp    http   SF        235       1337     0   \n",
       "3          0           tcp    http   SF        219       1337     0   \n",
       "4          0           tcp    http   SF        217       2032     0   \n",
       "..       ...           ...     ...  ...        ...        ...   ...   \n",
       "95         0           tcp    http   SF        337        330     0   \n",
       "96         0           tcp    http   SF        293      38125     0   \n",
       "97         0           tcp    http   SF        171        280     0   \n",
       "98         0           tcp    http   SF        178       1973     0   \n",
       "99         0           tcp    http   SF        331       8415     0   \n",
       "\n",
       "    wrong_fragment  urgent  hot  ...  dst_host_same_srv_rate  \\\n",
       "0                0       0    0  ...                     1.0   \n",
       "1                0       0    0  ...                     1.0   \n",
       "2                0       0    0  ...                     1.0   \n",
       "3                0       0    0  ...                     1.0   \n",
       "4                0       0    0  ...                     1.0   \n",
       "..             ...     ...  ...  ...                     ...   \n",
       "95               0       0    0  ...                     1.0   \n",
       "96               0       0    0  ...                     1.0   \n",
       "97               0       0    0  ...                     1.0   \n",
       "98               0       0    0  ...                     1.0   \n",
       "99               0       0    0  ...                     1.0   \n",
       "\n",
       "    dst_host_diff_srv_rate  dst_host_same_src_port_rate  \\\n",
       "0                      0.0                         0.11   \n",
       "1                      0.0                         0.05   \n",
       "2                      0.0                         0.03   \n",
       "3                      0.0                         0.03   \n",
       "4                      0.0                         0.02   \n",
       "..                     ...                          ...   \n",
       "95                     0.0                         0.08   \n",
       "96                     0.0                         0.05   \n",
       "97                     0.0                         0.17   \n",
       "98                     0.0                         0.06   \n",
       "99                     0.0                         0.04   \n",
       "\n",
       "    dst_host_srv_diff_host_rate  dst_host_serror_rate  \\\n",
       "0                          0.00                   0.0   \n",
       "1                          0.00                   0.0   \n",
       "2                          0.00                   0.0   \n",
       "3                          0.00                   0.0   \n",
       "4                          0.00                   0.0   \n",
       "..                          ...                   ...   \n",
       "95                         0.01                   0.0   \n",
       "96                         0.01                   0.0   \n",
       "97                         0.02                   0.0   \n",
       "98                         0.02                   0.0   \n",
       "99                         0.02                   0.0   \n",
       "\n",
       "    dst_host_srv_serror_rate  dst_host_rerror_rate  dst_host_srv_rerror_rate  \\\n",
       "0                        0.0                   0.0                       0.0   \n",
       "1                        0.0                   0.0                       0.0   \n",
       "2                        0.0                   0.0                       0.0   \n",
       "3                        0.0                   0.0                       0.0   \n",
       "4                        0.0                   0.0                       0.0   \n",
       "..                       ...                   ...                       ...   \n",
       "95                       0.0                   0.0                       0.0   \n",
       "96                       0.0                   0.0                       0.0   \n",
       "97                       0.0                   0.0                       0.0   \n",
       "98                       0.0                   0.0                       0.0   \n",
       "99                       0.0                   0.0                       0.0   \n",
       "\n",
       "     attack  attacks  \n",
       "0   normal.        0  \n",
       "1   normal.        0  \n",
       "2   normal.        0  \n",
       "3   normal.        0  \n",
       "4   normal.        0  \n",
       "..      ...      ...  \n",
       "95  normal.        0  \n",
       "96  normal.        0  \n",
       "97  normal.        0  \n",
       "98  normal.        0  \n",
       "99  normal.        0  \n",
       "\n",
       "[100 rows x 43 columns]"
      ],
      "text/html": "<div>\n<style scoped>\n    .dataframe tbody tr th:only-of-type {\n        vertical-align: middle;\n    }\n\n    .dataframe tbody tr th {\n        vertical-align: top;\n    }\n\n    .dataframe thead th {\n        text-align: right;\n    }\n</style>\n<table border=\"1\" class=\"dataframe\">\n  <thead>\n    <tr style=\"text-align: right;\">\n      <th></th>\n      <th>duration</th>\n      <th>protocol_type</th>\n      <th>service</th>\n      <th>flag</th>\n      <th>src_bytes</th>\n      <th>dst_bytes</th>\n      <th>land</th>\n      <th>wrong_fragment</th>\n      <th>urgent</th>\n      <th>hot</th>\n      <th>...</th>\n      <th>dst_host_same_srv_rate</th>\n      <th>dst_host_diff_srv_rate</th>\n      <th>dst_host_same_src_port_rate</th>\n      <th>dst_host_srv_diff_host_rate</th>\n      <th>dst_host_serror_rate</th>\n      <th>dst_host_srv_serror_rate</th>\n      <th>dst_host_rerror_rate</th>\n      <th>dst_host_srv_rerror_rate</th>\n      <th>attack</th>\n      <th>attacks</th>\n    </tr>\n  </thead>\n  <tbody>\n    <tr>\n      <th>0</th>\n      <td>0</td>\n      <td>tcp</td>\n      <td>http</td>\n      <td>SF</td>\n      <td>181</td>\n      <td>5450</td>\n      <td>0</td>\n      <td>0</td>\n      <td>0</td>\n      <td>0</td>\n      <td>...</td>\n      <td>1.0</td>\n      <td>0.0</td>\n      <td>0.11</td>\n      <td>0.00</td>\n      <td>0.0</td>\n      <td>0.0</td>\n      <td>0.0</td>\n      <td>0.0</td>\n      <td>normal.</td>\n      <td>0</td>\n    </tr>\n    <tr>\n      <th>1</th>\n      <td>0</td>\n      <td>tcp</td>\n      <td>http</td>\n      <td>SF</td>\n      <td>239</td>\n      <td>486</td>\n      <td>0</td>\n      <td>0</td>\n      <td>0</td>\n      <td>0</td>\n      <td>...</td>\n      <td>1.0</td>\n      <td>0.0</td>\n      <td>0.05</td>\n      <td>0.00</td>\n      <td>0.0</td>\n      <td>0.0</td>\n      <td>0.0</td>\n      <td>0.0</td>\n      <td>normal.</td>\n      <td>0</td>\n    </tr>\n    <tr>\n      <th>2</th>\n      <td>0</td>\n      <td>tcp</td>\n      <td>http</td>\n      <td>SF</td>\n      <td>235</td>\n      <td>1337</td>\n      <td>0</td>\n      <td>0</td>\n      <td>0</td>\n      <td>0</td>\n      <td>...</td>\n      <td>1.0</td>\n      <td>0.0</td>\n      <td>0.03</td>\n      <td>0.00</td>\n      <td>0.0</td>\n      <td>0.0</td>\n      <td>0.0</td>\n      <td>0.0</td>\n      <td>normal.</td>\n      <td>0</td>\n    </tr>\n    <tr>\n      <th>3</th>\n      <td>0</td>\n      <td>tcp</td>\n      <td>http</td>\n      <td>SF</td>\n      <td>219</td>\n      <td>1337</td>\n      <td>0</td>\n      <td>0</td>\n      <td>0</td>\n      <td>0</td>\n      <td>...</td>\n      <td>1.0</td>\n      <td>0.0</td>\n      <td>0.03</td>\n      <td>0.00</td>\n      <td>0.0</td>\n      <td>0.0</td>\n      <td>0.0</td>\n      <td>0.0</td>\n      <td>normal.</td>\n      <td>0</td>\n    </tr>\n    <tr>\n      <th>4</th>\n      <td>0</td>\n      <td>tcp</td>\n      <td>http</td>\n      <td>SF</td>\n      <td>217</td>\n      <td>2032</td>\n      <td>0</td>\n      <td>0</td>\n      <td>0</td>\n      <td>0</td>\n      <td>...</td>\n      <td>1.0</td>\n      <td>0.0</td>\n      <td>0.02</td>\n      <td>0.00</td>\n      <td>0.0</td>\n      <td>0.0</td>\n      <td>0.0</td>\n      <td>0.0</td>\n      <td>normal.</td>\n      <td>0</td>\n    </tr>\n    <tr>\n      <th>...</th>\n      <td>...</td>\n      <td>...</td>\n      <td>...</td>\n      <td>...</td>\n      <td>...</td>\n      <td>...</td>\n      <td>...</td>\n      <td>...</td>\n      <td>...</td>\n      <td>...</td>\n      <td>...</td>\n      <td>...</td>\n      <td>...</td>\n      <td>...</td>\n      <td>...</td>\n      <td>...</td>\n      <td>...</td>\n      <td>...</td>\n      <td>...</td>\n      <td>...</td>\n      <td>...</td>\n    </tr>\n    <tr>\n      <th>95</th>\n      <td>0</td>\n      <td>tcp</td>\n      <td>http</td>\n      <td>SF</td>\n      <td>337</td>\n      <td>330</td>\n      <td>0</td>\n      <td>0</td>\n      <td>0</td>\n      <td>0</td>\n      <td>...</td>\n      <td>1.0</td>\n      <td>0.0</td>\n      <td>0.08</td>\n      <td>0.01</td>\n      <td>0.0</td>\n      <td>0.0</td>\n      <td>0.0</td>\n      <td>0.0</td>\n      <td>normal.</td>\n      <td>0</td>\n    </tr>\n    <tr>\n      <th>96</th>\n      <td>0</td>\n      <td>tcp</td>\n      <td>http</td>\n      <td>SF</td>\n      <td>293</td>\n      <td>38125</td>\n      <td>0</td>\n      <td>0</td>\n      <td>0</td>\n      <td>0</td>\n      <td>...</td>\n      <td>1.0</td>\n      <td>0.0</td>\n      <td>0.05</td>\n      <td>0.01</td>\n      <td>0.0</td>\n      <td>0.0</td>\n      <td>0.0</td>\n      <td>0.0</td>\n      <td>normal.</td>\n      <td>0</td>\n    </tr>\n    <tr>\n      <th>97</th>\n      <td>0</td>\n      <td>tcp</td>\n      <td>http</td>\n      <td>SF</td>\n      <td>171</td>\n      <td>280</td>\n      <td>0</td>\n      <td>0</td>\n      <td>0</td>\n      <td>0</td>\n      <td>...</td>\n      <td>1.0</td>\n      <td>0.0</td>\n      <td>0.17</td>\n      <td>0.02</td>\n      <td>0.0</td>\n      <td>0.0</td>\n      <td>0.0</td>\n      <td>0.0</td>\n      <td>normal.</td>\n      <td>0</td>\n    </tr>\n    <tr>\n      <th>98</th>\n      <td>0</td>\n      <td>tcp</td>\n      <td>http</td>\n      <td>SF</td>\n      <td>178</td>\n      <td>1973</td>\n      <td>0</td>\n      <td>0</td>\n      <td>0</td>\n      <td>0</td>\n      <td>...</td>\n      <td>1.0</td>\n      <td>0.0</td>\n      <td>0.06</td>\n      <td>0.02</td>\n      <td>0.0</td>\n      <td>0.0</td>\n      <td>0.0</td>\n      <td>0.0</td>\n      <td>normal.</td>\n      <td>0</td>\n    </tr>\n    <tr>\n      <th>99</th>\n      <td>0</td>\n      <td>tcp</td>\n      <td>http</td>\n      <td>SF</td>\n      <td>331</td>\n      <td>8415</td>\n      <td>0</td>\n      <td>0</td>\n      <td>0</td>\n      <td>0</td>\n      <td>...</td>\n      <td>1.0</td>\n      <td>0.0</td>\n      <td>0.04</td>\n      <td>0.02</td>\n      <td>0.0</td>\n      <td>0.0</td>\n      <td>0.0</td>\n      <td>0.0</td>\n      <td>normal.</td>\n      <td>0</td>\n    </tr>\n  </tbody>\n</table>\n<p>100 rows × 43 columns</p>\n</div>"
     },
     "metadata": {},
     "execution_count": 32
    }
   ],
   "source": [
    "MydataTraining.head(100)"
   ]
  },
  {
   "cell_type": "code",
   "execution_count": 22,
   "metadata": {},
   "outputs": [
    {
     "output_type": "execute_result",
     "data": {
      "text/plain": [
       "42"
      ]
     },
     "metadata": {},
     "execution_count": 22
    }
   ],
   "source": [
    "len(MydataTraining.columns)"
   ]
  },
  {
   "cell_type": "code",
   "execution_count": 23,
   "metadata": {},
   "outputs": [
    {
     "output_type": "execute_result",
     "data": {
      "text/plain": [
       "protocol_type       icmp     tcp    udp\n",
       "attack                                 \n",
       "back.                  0    2203      0\n",
       "buffer_overflow.       0      30      0\n",
       "ftp_write.             0       8      0\n",
       "guess_passwd.          0      53      0\n",
       "imap.                  0      12      0\n",
       "ipsweep.            1153      94      0\n",
       "land.                  0      21      0\n",
       "loadmodule.            0       9      0\n",
       "multihop.              0       7      0\n",
       "neptune.               0  107201      0\n",
       "nmap.                103     103     25\n",
       "normal.             1288   76813  19177\n",
       "perl.                  0       3      0\n",
       "phf.                   0       4      0\n",
       "pod.                 264       0      0\n",
       "portsweep.             1    1039      0\n",
       "rootkit.               0       7      3\n",
       "satan.                 3    1416    170\n",
       "smurf.            280790       0      0\n",
       "spy.                   0       2      0\n",
       "teardrop.              0       0    979\n",
       "warezclient.           0    1020      0\n",
       "warezmaster.           0      20      0"
      ],
      "text/html": "<div>\n<style scoped>\n    .dataframe tbody tr th:only-of-type {\n        vertical-align: middle;\n    }\n\n    .dataframe tbody tr th {\n        vertical-align: top;\n    }\n\n    .dataframe thead th {\n        text-align: right;\n    }\n</style>\n<table border=\"1\" class=\"dataframe\">\n  <thead>\n    <tr style=\"text-align: right;\">\n      <th>protocol_type</th>\n      <th>icmp</th>\n      <th>tcp</th>\n      <th>udp</th>\n    </tr>\n    <tr>\n      <th>attack</th>\n      <th></th>\n      <th></th>\n      <th></th>\n    </tr>\n  </thead>\n  <tbody>\n    <tr>\n      <th>back.</th>\n      <td>0</td>\n      <td>2203</td>\n      <td>0</td>\n    </tr>\n    <tr>\n      <th>buffer_overflow.</th>\n      <td>0</td>\n      <td>30</td>\n      <td>0</td>\n    </tr>\n    <tr>\n      <th>ftp_write.</th>\n      <td>0</td>\n      <td>8</td>\n      <td>0</td>\n    </tr>\n    <tr>\n      <th>guess_passwd.</th>\n      <td>0</td>\n      <td>53</td>\n      <td>0</td>\n    </tr>\n    <tr>\n      <th>imap.</th>\n      <td>0</td>\n      <td>12</td>\n      <td>0</td>\n    </tr>\n    <tr>\n      <th>ipsweep.</th>\n      <td>1153</td>\n      <td>94</td>\n      <td>0</td>\n    </tr>\n    <tr>\n      <th>land.</th>\n      <td>0</td>\n      <td>21</td>\n      <td>0</td>\n    </tr>\n    <tr>\n      <th>loadmodule.</th>\n      <td>0</td>\n      <td>9</td>\n      <td>0</td>\n    </tr>\n    <tr>\n      <th>multihop.</th>\n      <td>0</td>\n      <td>7</td>\n      <td>0</td>\n    </tr>\n    <tr>\n      <th>neptune.</th>\n      <td>0</td>\n      <td>107201</td>\n      <td>0</td>\n    </tr>\n    <tr>\n      <th>nmap.</th>\n      <td>103</td>\n      <td>103</td>\n      <td>25</td>\n    </tr>\n    <tr>\n      <th>normal.</th>\n      <td>1288</td>\n      <td>76813</td>\n      <td>19177</td>\n    </tr>\n    <tr>\n      <th>perl.</th>\n      <td>0</td>\n      <td>3</td>\n      <td>0</td>\n    </tr>\n    <tr>\n      <th>phf.</th>\n      <td>0</td>\n      <td>4</td>\n      <td>0</td>\n    </tr>\n    <tr>\n      <th>pod.</th>\n      <td>264</td>\n      <td>0</td>\n      <td>0</td>\n    </tr>\n    <tr>\n      <th>portsweep.</th>\n      <td>1</td>\n      <td>1039</td>\n      <td>0</td>\n    </tr>\n    <tr>\n      <th>rootkit.</th>\n      <td>0</td>\n      <td>7</td>\n      <td>3</td>\n    </tr>\n    <tr>\n      <th>satan.</th>\n      <td>3</td>\n      <td>1416</td>\n      <td>170</td>\n    </tr>\n    <tr>\n      <th>smurf.</th>\n      <td>280790</td>\n      <td>0</td>\n      <td>0</td>\n    </tr>\n    <tr>\n      <th>spy.</th>\n      <td>0</td>\n      <td>2</td>\n      <td>0</td>\n    </tr>\n    <tr>\n      <th>teardrop.</th>\n      <td>0</td>\n      <td>0</td>\n      <td>979</td>\n    </tr>\n    <tr>\n      <th>warezclient.</th>\n      <td>0</td>\n      <td>1020</td>\n      <td>0</td>\n    </tr>\n    <tr>\n      <th>warezmaster.</th>\n      <td>0</td>\n      <td>20</td>\n      <td>0</td>\n    </tr>\n  </tbody>\n</table>\n</div>"
     },
     "metadata": {},
     "execution_count": 23
    }
   ],
   "source": [
    "#Nb attack selon le type de protocole\n",
    "protocol_type_and_attack = pd.crosstab(MydataTraining.attack, MydataTraining.protocol_type)\n",
    "protocol_type_and_attack"
   ]
  },
  {
   "cell_type": "code",
   "execution_count": 24,
   "metadata": {},
   "outputs": [],
   "source": [
    "Dos = ['neptune','land','pod','smurf','teardrop','back','worm','udpstorm','processtable','apache2']\n",
    "Probe = ['ipsweep','satan','nmap','portsweep','mscan','saint']\n",
    "R2l = ['ftp_write','guess_passwd','imap','multihop','phf','spy','warezclient','warezmaster','snmpguess','named','xlock','xsnoop','snmpgetattack','httptunnel','sendmail']\n",
    "U2r = ['buffer_overflow','loadmodule','perl','rootkit','ps','xterm','sqlattack']\n",
    "\n",
    "attack_category = ['Normal','DOS','Probe','R2L','U2R']"
   ]
  },
  {
   "cell_type": "code",
   "execution_count": 25,
   "metadata": {},
   "outputs": [],
   "source": [
    "def Attacks(attack):\n",
    "    if attack in Dos:\n",
    "        atk = 1\n",
    "    elif attack in Probe:\n",
    "        atk = 2\n",
    "    elif attack in R2l:\n",
    "        atk = 3\n",
    "    elif attack in U2r:\n",
    "        atk = 4\n",
    "    else:\n",
    "        atk = 0\n",
    "    return atk"
   ]
  },
  {
   "cell_type": "code",
   "execution_count": 26,
   "metadata": {},
   "outputs": [
    {
     "output_type": "execute_result",
     "data": {
      "text/plain": [
       "  protocol_type service flag\n",
       "0           tcp    http   SF\n",
       "1           tcp    http   SF\n",
       "2           tcp    http   SF\n",
       "3           tcp    http   SF\n",
       "4           tcp    http   SF"
      ],
      "text/html": "<div>\n<style scoped>\n    .dataframe tbody tr th:only-of-type {\n        vertical-align: middle;\n    }\n\n    .dataframe tbody tr th {\n        vertical-align: top;\n    }\n\n    .dataframe thead th {\n        text-align: right;\n    }\n</style>\n<table border=\"1\" class=\"dataframe\">\n  <thead>\n    <tr style=\"text-align: right;\">\n      <th></th>\n      <th>protocol_type</th>\n      <th>service</th>\n      <th>flag</th>\n    </tr>\n  </thead>\n  <tbody>\n    <tr>\n      <th>0</th>\n      <td>tcp</td>\n      <td>http</td>\n      <td>SF</td>\n    </tr>\n    <tr>\n      <th>1</th>\n      <td>tcp</td>\n      <td>http</td>\n      <td>SF</td>\n    </tr>\n    <tr>\n      <th>2</th>\n      <td>tcp</td>\n      <td>http</td>\n      <td>SF</td>\n    </tr>\n    <tr>\n      <th>3</th>\n      <td>tcp</td>\n      <td>http</td>\n      <td>SF</td>\n    </tr>\n    <tr>\n      <th>4</th>\n      <td>tcp</td>\n      <td>http</td>\n      <td>SF</td>\n    </tr>\n  </tbody>\n</table>\n</div>"
     },
     "metadata": {},
     "execution_count": 26
    }
   ],
   "source": [
    "MydataTraining_categorical_values.head()"
   ]
  },
  {
   "cell_type": "code",
   "execution_count": 27,
   "metadata": {},
   "outputs": [],
   "source": [
    "attack_types = MydataTraining.attack.apply(Attacks)\n",
    "MydataTraining['attacks'] = attack_types"
   ]
  },
  {
   "cell_type": "code",
   "execution_count": 28,
   "metadata": {},
   "outputs": [
    {
     "output_type": "execute_result",
     "data": {
      "text/plain": [
       "          attack  attacks\n",
       "35041    normal.        0\n",
       "269843    smurf.        0\n",
       "276067    smurf.        0\n",
       "153289    smurf.        0\n",
       "276116    smurf.        0\n",
       "410944    smurf.        0\n",
       "455510   normal.        0\n",
       "14529    normal.        0\n",
       "373059  neptune.        0\n",
       "149346   normal.        0\n",
       "295610    smurf.        0\n",
       "48430     smurf.        0\n",
       "481871   normal.        0\n",
       "245129    smurf.        0\n",
       "304223    smurf.        0"
      ],
      "text/html": "<div>\n<style scoped>\n    .dataframe tbody tr th:only-of-type {\n        vertical-align: middle;\n    }\n\n    .dataframe tbody tr th {\n        vertical-align: top;\n    }\n\n    .dataframe thead th {\n        text-align: right;\n    }\n</style>\n<table border=\"1\" class=\"dataframe\">\n  <thead>\n    <tr style=\"text-align: right;\">\n      <th></th>\n      <th>attack</th>\n      <th>attacks</th>\n    </tr>\n  </thead>\n  <tbody>\n    <tr>\n      <th>35041</th>\n      <td>normal.</td>\n      <td>0</td>\n    </tr>\n    <tr>\n      <th>269843</th>\n      <td>smurf.</td>\n      <td>0</td>\n    </tr>\n    <tr>\n      <th>276067</th>\n      <td>smurf.</td>\n      <td>0</td>\n    </tr>\n    <tr>\n      <th>153289</th>\n      <td>smurf.</td>\n      <td>0</td>\n    </tr>\n    <tr>\n      <th>276116</th>\n      <td>smurf.</td>\n      <td>0</td>\n    </tr>\n    <tr>\n      <th>410944</th>\n      <td>smurf.</td>\n      <td>0</td>\n    </tr>\n    <tr>\n      <th>455510</th>\n      <td>normal.</td>\n      <td>0</td>\n    </tr>\n    <tr>\n      <th>14529</th>\n      <td>normal.</td>\n      <td>0</td>\n    </tr>\n    <tr>\n      <th>373059</th>\n      <td>neptune.</td>\n      <td>0</td>\n    </tr>\n    <tr>\n      <th>149346</th>\n      <td>normal.</td>\n      <td>0</td>\n    </tr>\n    <tr>\n      <th>295610</th>\n      <td>smurf.</td>\n      <td>0</td>\n    </tr>\n    <tr>\n      <th>48430</th>\n      <td>smurf.</td>\n      <td>0</td>\n    </tr>\n    <tr>\n      <th>481871</th>\n      <td>normal.</td>\n      <td>0</td>\n    </tr>\n    <tr>\n      <th>245129</th>\n      <td>smurf.</td>\n      <td>0</td>\n    </tr>\n    <tr>\n      <th>304223</th>\n      <td>smurf.</td>\n      <td>0</td>\n    </tr>\n  </tbody>\n</table>\n</div>"
     },
     "metadata": {},
     "execution_count": 28
    }
   ],
   "source": [
    "att = MydataTraining[[\"attack\",\"attacks\"]]\n",
    "att.sample(15)"
   ]
  },
  {
   "cell_type": "code",
   "execution_count": 29,
   "metadata": {},
   "outputs": [
    {
     "output_type": "execute_result",
     "data": {
      "text/plain": [
       "attacks\n",
       "0    494021\n",
       "dtype: int64"
      ]
     },
     "metadata": {},
     "execution_count": 29
    }
   ],
   "source": [
    "MydataTraining.groupby(MydataTraining[\"attacks\"]).size()\n"
   ]
  },
  {
   "cell_type": "code",
   "execution_count": 30,
   "metadata": {},
   "outputs": [
    {
     "output_type": "stream",
     "name": "stderr",
     "text": [
      "No handles with labels found to put in legend.\n",
      "No handles with labels found to put in legend.\n",
      "No handles with labels found to put in legend.\n"
     ]
    },
    {
     "output_type": "execute_result",
     "data": {
      "text/plain": [
       "<matplotlib.legend.Legend at 0x14c4f107400>"
      ]
     },
     "metadata": {},
     "execution_count": 30
    },
    {
     "output_type": "display_data",
     "data": {
      "text/plain": "<Figure size 1080x720 with 3 Axes>",
      "image/svg+xml": "<?xml version=\"1.0\" encoding=\"utf-8\" standalone=\"no\"?>\r\n<!DOCTYPE svg PUBLIC \"-//W3C//DTD SVG 1.1//EN\"\r\n  \"http://www.w3.org/Graphics/SVG/1.1/DTD/svg11.dtd\">\r\n<!-- Created with matplotlib (https://matplotlib.org/) -->\r\n<svg height=\"355.83125pt\" version=\"1.1\" viewBox=\"0 0 972.553125 355.83125\" width=\"972.553125pt\" xmlns=\"http://www.w3.org/2000/svg\" xmlns:xlink=\"http://www.w3.org/1999/xlink\">\r\n <metadata>\r\n  <rdf:RDF xmlns:cc=\"http://creativecommons.org/ns#\" xmlns:dc=\"http://purl.org/dc/elements/1.1/\" xmlns:rdf=\"http://www.w3.org/1999/02/22-rdf-syntax-ns#\">\r\n   <cc:Work>\r\n    <dc:type rdf:resource=\"http://purl.org/dc/dcmitype/StillImage\"/>\r\n    <dc:date>2021-05-24T14:35:15.593330</dc:date>\r\n    <dc:format>image/svg+xml</dc:format>\r\n    <dc:creator>\r\n     <cc:Agent>\r\n      <dc:title>Matplotlib v3.3.2, https://matplotlib.org/</dc:title>\r\n     </cc:Agent>\r\n    </dc:creator>\r\n   </cc:Work>\r\n  </rdf:RDF>\r\n </metadata>\r\n <defs>\r\n  <style type=\"text/css\">*{stroke-linecap:butt;stroke-linejoin:round;}</style>\r\n </defs>\r\n <g id=\"figure_1\">\r\n  <g id=\"patch_1\">\r\n   <path d=\"M 0 355.83125 \r\nL 972.553125 355.83125 \r\nL 972.553125 0 \r\nL 0 0 \r\nz\r\n\" style=\"fill:none;\"/>\r\n  </g>\r\n  <g id=\"axes_1\">\r\n   <g id=\"patch_2\">\r\n    <path d=\"M 228.758824 177.915625 \r\nC 228.758824 177.915625 228.758824 177.915625 228.758824 177.915625 \r\nL 130.288235 177.915625 \r\nL 228.758824 177.915625 \r\nz\r\n\" style=\"fill:#1f77b4;\"/>\r\n   </g>\r\n   <g id=\"patch_3\">\r\n    <path d=\"M 228.758824 177.915625 \r\nC 228.758824 177.915625 228.758824 177.915625 228.758824 177.915625 \r\nL 130.288235 177.915625 \r\nL 228.758824 177.915625 \r\nz\r\n\" style=\"fill:#ff7f0e;\"/>\r\n   </g>\r\n   <g id=\"patch_4\">\r\n    <path d=\"M 228.758824 177.915625 \r\nC 228.758824 177.915625 228.758824 177.915625 228.758824 177.915625 \r\nL 130.288235 177.915625 \r\nL 228.758824 177.915625 \r\nz\r\n\" style=\"fill:#2ca02c;\"/>\r\n   </g>\r\n   <g id=\"patch_5\">\r\n    <path d=\"M 228.758824 177.915625 \r\nC 228.758824 177.915625 228.758824 177.915625 228.758824 177.915625 \r\nL 130.288235 177.915625 \r\nL 228.758824 177.915625 \r\nz\r\n\" style=\"fill:#d62728;\"/>\r\n   </g>\r\n   <g id=\"patch_6\">\r\n    <path d=\"M 228.758824 177.915625 \r\nC 228.758824 177.915625 228.758824 177.915625 228.758824 177.915625 \r\nL 130.288235 177.915625 \r\nL 228.758824 177.915625 \r\nz\r\n\" style=\"fill:#9467bd;\"/>\r\n   </g>\r\n   <g id=\"patch_7\">\r\n    <path d=\"M 228.758824 177.915625 \r\nC 228.758824 177.496391 228.756146 177.077161 228.750792 176.657961 \r\nC 228.745437 176.238761 228.737406 175.8196 228.726698 175.400502 \r\nL 130.288235 177.915625 \r\nL 228.758824 177.915625 \r\nz\r\n\" style=\"fill:#8c564b;\"/>\r\n   </g>\r\n   <g id=\"patch_8\">\r\n    <path d=\"M 228.726698 175.400502 \r\nC 228.726698 175.400502 228.726698 175.400502 228.726698 175.400502 \r\nL 130.288235 177.915625 \r\nL 228.726698 175.400502 \r\nz\r\n\" style=\"fill:#e377c2;\"/>\r\n   </g>\r\n   <g id=\"patch_9\">\r\n    <path d=\"M 228.726698 175.400502 \r\nC 228.726698 175.400502 228.726698 175.400502 228.726698 175.400502 \r\nL 130.288235 177.915625 \r\nL 228.726698 175.400502 \r\nz\r\n\" style=\"fill:#7f7f7f;\"/>\r\n   </g>\r\n   <g id=\"patch_10\">\r\n    <path d=\"M 228.726698 175.400502 \r\nC 228.726698 175.400502 228.726698 175.400502 228.726698 175.400502 \r\nL 130.288235 177.915625 \r\nL 228.726698 175.400502 \r\nz\r\n\" style=\"fill:#bcbd22;\"/>\r\n   </g>\r\n   <g id=\"patch_11\">\r\n    <path d=\"M 228.726698 175.400502 \r\nC 228.726698 175.400502 228.726698 175.400502 228.726698 175.400502 \r\nL 130.288235 177.915625 \r\nL 228.726698 175.400502 \r\nz\r\n\" style=\"fill:#17becf;\"/>\r\n   </g>\r\n   <g id=\"patch_12\">\r\n    <path d=\"M 228.726698 175.400502 \r\nC 228.725741 175.363064 228.724763 175.325625 228.723764 175.288188 \r\nC 228.722765 175.25075 228.721744 175.213313 228.720702 175.175877 \r\nL 130.288235 177.915625 \r\nL 228.726698 175.400502 \r\nz\r\n\" style=\"fill:#1f77b4;\"/>\r\n   </g>\r\n   <g id=\"patch_13\">\r\n    <path d=\"M 228.720702 175.175877 \r\nC 228.707672 174.707737 228.691302 174.239696 228.671595 173.77179 \r\nC 228.651887 173.303884 228.628841 172.836125 228.602459 172.368547 \r\nL 130.288235 177.915625 \r\nL 228.720702 175.175877 \r\nz\r\n\" style=\"fill:#ff7f0e;\"/>\r\n   </g>\r\n   <g id=\"patch_14\">\r\n    <path d=\"M 228.602459 172.368547 \r\nC 228.602459 172.368547 228.602459 172.368547 228.602459 172.368547 \r\nL 130.288235 177.915625 \r\nL 228.602459 172.368547 \r\nz\r\n\" style=\"fill:#2ca02c;\"/>\r\n   </g>\r\n   <g id=\"patch_15\">\r\n    <path d=\"M 228.602459 172.368547 \r\nC 228.602459 172.368547 228.602459 172.368547 228.602459 172.368547 \r\nL 130.288235 177.915625 \r\nL 228.602459 172.368547 \r\nz\r\n\" style=\"fill:#d62728;\"/>\r\n   </g>\r\n   <g id=\"patch_16\">\r\n    <path d=\"M 228.602459 172.368547 \r\nC 228.597052 172.272709 228.591505 172.176878 228.585817 172.081056 \r\nC 228.580129 171.985234 228.574302 171.88942 228.568334 171.793615 \r\nL 130.288235 177.915625 \r\nL 228.602459 172.368547 \r\nz\r\n\" style=\"fill:#9467bd;\"/>\r\n   </g>\r\n   <g id=\"patch_17\">\r\n    <path d=\"M 228.568334 171.793615 \r\nC 228.568311 171.793252 228.568288 171.792889 228.568266 171.792526 \r\nC 228.568243 171.792163 228.568221 171.7918 228.568198 171.791438 \r\nL 130.288235 177.915625 \r\nL 228.568334 171.793615 \r\nz\r\n\" style=\"fill:#8c564b;\"/>\r\n   </g>\r\n   <g id=\"patch_18\">\r\n    <path d=\"M 228.568198 171.791438 \r\nC 228.568198 171.791438 228.568198 171.791438 228.568198 171.791438 \r\nL 130.288235 177.915625 \r\nL 228.568198 171.791438 \r\nz\r\n\" style=\"fill:#e377c2;\"/>\r\n   </g>\r\n   <g id=\"patch_19\">\r\n    <path d=\"M 228.568198 171.791438 \r\nC 228.56813 171.790349 228.568062 171.78926 228.567994 171.788172 \r\nC 228.567927 171.787083 228.567859 171.785994 228.567791 171.784905 \r\nL 130.288235 177.915625 \r\nL 228.568198 171.791438 \r\nz\r\n\" style=\"fill:#7f7f7f;\"/>\r\n   </g>\r\n   <g id=\"patch_20\">\r\n    <path d=\"M 228.567791 171.784905 \r\nC 227.770745 159.007721 224.489579 146.507739 218.908406 134.986357 \r\nC 213.327234 123.464975 205.552433 113.141795 196.020262 104.596068 \r\nC 186.488091 96.050341 175.380237 89.444953 163.319981 85.150543 \r\nC 151.259725 80.856132 138.476941 78.954554 125.688892 79.552508 \r\nC 112.900844 80.150462 100.351277 83.236551 88.744369 88.63761 \r\nC 77.137462 94.038669 66.694447 101.65175 58.0013 111.049672 \r\nC 49.308153 120.447593 42.530568 131.451226 38.048849 143.443137 \r\nC 33.56713 155.435048 31.4667 168.186666 31.865417 180.982476 \r\nC 32.264134 193.778286 35.154398 206.374395 40.374033 218.064012 \r\nC 45.593667 229.753629 53.043183 240.313946 62.304575 249.152404 \r\nC 71.565967 257.990863 82.46271 264.938999 94.383366 269.606939 \r\nC 106.304023 274.27488 119.021382 276.573653 131.82185 276.37427 \r\nC 144.622318 276.174887 157.261913 273.481148 169.031404 268.444204 \r\nC 180.800896 263.40726 191.475952 256.123117 200.457578 247.000501 \r\nC 209.439204 237.877884 216.556206 227.090676 221.409237 215.244165 \r\nC 226.262267 203.397653 228.758824 190.717639 228.758824 177.915618 \r\nL 130.288235 177.915625 \r\nL 228.567791 171.784905 \r\nz\r\n\" style=\"fill:#bcbd22;\"/>\r\n   </g>\r\n   <g id=\"patch_21\">\r\n    <path d=\"M 228.758824 177.915618 \r\nC 228.758824 177.915618 228.758824 177.915618 228.758824 177.915618 \r\nL 130.288235 177.915625 \r\nL 228.758824 177.915618 \r\nz\r\n\" style=\"fill:#17becf;\"/>\r\n   </g>\r\n   <g id=\"patch_22\">\r\n    <path d=\"M 228.758824 177.915618 \r\nC 228.758824 177.915618 228.758824 177.915618 228.758824 177.915618 \r\nL 130.288235 177.915625 \r\nL 228.758824 177.915618 \r\nz\r\n\" style=\"fill:#1f77b4;\"/>\r\n   </g>\r\n   <g id=\"patch_23\">\r\n    <path d=\"M 228.758824 177.915618 \r\nC 228.758824 177.915618 228.758824 177.915618 228.758824 177.915618 \r\nL 130.288235 177.915625 \r\nL 228.758824 177.915618 \r\nz\r\n\" style=\"fill:#ff7f0e;\"/>\r\n   </g>\r\n   <g id=\"patch_24\">\r\n    <path d=\"M 228.758824 177.915618 \r\nC 228.758824 177.915618 228.758824 177.915618 228.758824 177.915618 \r\nL 130.288235 177.915625 \r\nL 228.758824 177.915618 \r\nz\r\n\" style=\"fill:#2ca02c;\"/>\r\n   </g>\r\n   <g id=\"matplotlib.axis_1\"/>\r\n   <g id=\"matplotlib.axis_2\"/>\r\n   <g id=\"text_1\">\r\n    <!-- ICMP -->\r\n    <g transform=\"translate(115.53386 48.82739)scale(0.12 -0.12)\">\r\n     <defs>\r\n      <path d=\"M 9.8125 72.90625 \r\nL 19.671875 72.90625 \r\nL 19.671875 0 \r\nL 9.8125 0 \r\nz\r\n\" id=\"DejaVuSans-73\"/>\r\n      <path d=\"M 64.40625 67.28125 \r\nL 64.40625 56.890625 \r\nQ 59.421875 61.53125 53.78125 63.8125 \r\nQ 48.140625 66.109375 41.796875 66.109375 \r\nQ 29.296875 66.109375 22.65625 58.46875 \r\nQ 16.015625 50.828125 16.015625 36.375 \r\nQ 16.015625 21.96875 22.65625 14.328125 \r\nQ 29.296875 6.6875 41.796875 6.6875 \r\nQ 48.140625 6.6875 53.78125 8.984375 \r\nQ 59.421875 11.28125 64.40625 15.921875 \r\nL 64.40625 5.609375 \r\nQ 59.234375 2.09375 53.4375 0.328125 \r\nQ 47.65625 -1.421875 41.21875 -1.421875 \r\nQ 24.65625 -1.421875 15.125 8.703125 \r\nQ 5.609375 18.84375 5.609375 36.375 \r\nQ 5.609375 53.953125 15.125 64.078125 \r\nQ 24.65625 74.21875 41.21875 74.21875 \r\nQ 47.75 74.21875 53.53125 72.484375 \r\nQ 59.328125 70.75 64.40625 67.28125 \r\nz\r\n\" id=\"DejaVuSans-67\"/>\r\n      <path d=\"M 9.8125 72.90625 \r\nL 24.515625 72.90625 \r\nL 43.109375 23.296875 \r\nL 61.8125 72.90625 \r\nL 76.515625 72.90625 \r\nL 76.515625 0 \r\nL 66.890625 0 \r\nL 66.890625 64.015625 \r\nL 48.09375 14.015625 \r\nL 38.1875 14.015625 \r\nL 19.390625 64.015625 \r\nL 19.390625 0 \r\nL 9.8125 0 \r\nz\r\n\" id=\"DejaVuSans-77\"/>\r\n      <path d=\"M 19.671875 64.796875 \r\nL 19.671875 37.40625 \r\nL 32.078125 37.40625 \r\nQ 38.96875 37.40625 42.71875 40.96875 \r\nQ 46.484375 44.53125 46.484375 51.125 \r\nQ 46.484375 57.671875 42.71875 61.234375 \r\nQ 38.96875 64.796875 32.078125 64.796875 \r\nz\r\nM 9.8125 72.90625 \r\nL 32.078125 72.90625 \r\nQ 44.34375 72.90625 50.609375 67.359375 \r\nQ 56.890625 61.8125 56.890625 51.125 \r\nQ 56.890625 40.328125 50.609375 34.8125 \r\nQ 44.34375 29.296875 32.078125 29.296875 \r\nL 19.671875 29.296875 \r\nL 19.671875 0 \r\nL 9.8125 0 \r\nz\r\n\" id=\"DejaVuSans-80\"/>\r\n     </defs>\r\n     <use xlink:href=\"#DejaVuSans-73\"/>\r\n     <use x=\"29.492188\" xlink:href=\"#DejaVuSans-67\"/>\r\n     <use x=\"99.316406\" xlink:href=\"#DejaVuSans-77\"/>\r\n     <use x=\"185.595703\" xlink:href=\"#DejaVuSans-80\"/>\r\n    </g>\r\n   </g>\r\n   <g id=\"legend_1\">\r\n    <g id=\"patch_25\">\r\n     <path d=\"M 242.376471 67.82739 \r\nL 246.376471 67.82739 \r\nQ 248.376471 67.82739 248.376471 65.82739 \r\nL 248.376471 61.82739 \r\nQ 248.376471 59.82739 246.376471 59.82739 \r\nL 242.376471 59.82739 \r\nQ 240.376471 59.82739 240.376471 61.82739 \r\nL 240.376471 65.82739 \r\nQ 240.376471 67.82739 242.376471 67.82739 \r\nz\r\n\" style=\"fill:#ffffff;opacity:0.8;stroke:#cccccc;stroke-linejoin:miter;\"/>\r\n    </g>\r\n   </g>\r\n  </g>\r\n  <g id=\"axes_2\">\r\n   <g id=\"patch_26\">\r\n    <path d=\"M 524.170588 177.915625 \r\nC 524.170588 176.720373 524.148826 175.52522 524.105312 174.33076 \r\nC 524.061799 173.136301 523.996541 171.942732 523.909571 170.750648 \r\nL 425.7 177.915625 \r\nL 524.170588 177.915625 \r\nz\r\n\" style=\"fill:#1f77b4;\"/>\r\n   </g>\r\n   <g id=\"patch_27\">\r\n    <path d=\"M 523.909571 170.750648 \r\nC 523.908387 170.734415 523.907198 170.718183 523.906006 170.70195 \r\nC 523.904814 170.685718 523.903617 170.669485 523.902417 170.653253 \r\nL 425.7 177.915625 \r\nL 523.909571 170.750648 \r\nz\r\n\" style=\"fill:#ff7f0e;\"/>\r\n   </g>\r\n   <g id=\"patch_28\">\r\n    <path d=\"M 523.902417 170.653253 \r\nC 523.902097 170.648925 523.901777 170.644596 523.901456 170.640268 \r\nC 523.901135 170.635939 523.900814 170.631611 523.900493 170.627283 \r\nL 425.7 177.915625 \r\nL 523.902417 170.653253 \r\nz\r\n\" style=\"fill:#2ca02c;\"/>\r\n   </g>\r\n   <g id=\"patch_29\">\r\n    <path d=\"M 523.900493 170.627283 \r\nC 523.898365 170.598607 523.896224 170.569932 523.89407 170.541258 \r\nC 523.891917 170.512584 523.889751 170.483911 523.887572 170.455239 \r\nL 425.7 177.915625 \r\nL 523.900493 170.627283 \r\nz\r\n\" style=\"fill:#d62728;\"/>\r\n   </g>\r\n   <g id=\"patch_30\">\r\n    <path d=\"M 523.887572 170.455239 \r\nC 523.887079 170.448747 523.886585 170.442255 523.886091 170.435764 \r\nC 523.885596 170.429272 523.885101 170.42278 523.884605 170.416289 \r\nL 425.7 177.915625 \r\nL 523.887572 170.455239 \r\nz\r\n\" style=\"fill:#9467bd;\"/>\r\n   </g>\r\n   <g id=\"patch_31\">\r\n    <path d=\"M 523.884605 170.416289 \r\nC 523.880721 170.365438 523.876798 170.31459 523.872835 170.263745 \r\nC 523.868872 170.212901 523.864869 170.162059 523.860827 170.111221 \r\nL 425.7 177.915625 \r\nL 523.884605 170.416289 \r\nz\r\n\" style=\"fill:#8c564b;\"/>\r\n   </g>\r\n   <g id=\"patch_32\">\r\n    <path d=\"M 523.860827 170.111221 \r\nC 523.859924 170.099863 523.859019 170.088506 523.858112 170.077149 \r\nC 523.857205 170.065791 523.856297 170.054434 523.855386 170.043077 \r\nL 425.7 177.915625 \r\nL 523.860827 170.111221 \r\nz\r\n\" style=\"fill:#e377c2;\"/>\r\n   </g>\r\n   <g id=\"patch_33\">\r\n    <path d=\"M 523.855386 170.043077 \r\nC 523.854995 170.03821 523.854605 170.033343 523.854213 170.028476 \r\nC 523.853822 170.023609 523.853431 170.018741 523.853039 170.013874 \r\nL 425.7 177.915625 \r\nL 523.855386 170.043077 \r\nz\r\n\" style=\"fill:#7f7f7f;\"/>\r\n   </g>\r\n   <g id=\"patch_34\">\r\n    <path d=\"M 523.853039 170.013874 \r\nC 523.852734 170.010089 523.852429 170.006303 523.852124 170.002518 \r\nC 523.851819 169.998732 523.851514 169.994947 523.851208 169.991161 \r\nL 425.7 177.915625 \r\nL 523.853039 170.013874 \r\nz\r\n\" style=\"fill:#bcbd22;\"/>\r\n   </g>\r\n   <g id=\"patch_35\">\r\n    <path d=\"M 523.851208 169.991161 \r\nC 522.676312 155.439082 518.279712 141.328782 510.980676 128.684912 \r\nC 503.681639 116.041042 493.661228 105.177247 481.647097 96.882428 \r\nC 469.632966 88.587608 455.923139 83.067525 441.513186 80.723033 \r\nC 427.103233 78.378541 412.35061 79.267797 398.326611 83.326226 \r\nC 384.302613 87.384655 371.35512 94.511583 360.424345 104.189472 \r\nC 349.493569 113.867361 340.850662 125.85614 335.123246 139.285217 \r\nC 329.395831 152.714293 326.725982 167.250543 327.307578 181.838385 \r\nC 327.889174 196.426227 331.707786 210.703792 338.486119 223.634283 \r\nL 425.7 177.915625 \r\nL 523.851208 169.991161 \r\nz\r\n\" style=\"fill:#17becf;\"/>\r\n   </g>\r\n   <g id=\"patch_36\">\r\n    <path d=\"M 338.486119 223.634283 \r\nC 338.512064 223.683777 338.538051 223.733248 338.564081 223.782698 \r\nC 338.59011 223.832147 338.616182 223.881574 338.642295 223.930979 \r\nL 425.7 177.915625 \r\nL 338.486119 223.634283 \r\nz\r\n\" style=\"fill:#1f77b4;\"/>\r\n   </g>\r\n   <g id=\"patch_37\">\r\n    <path d=\"M 338.642295 223.930979 \r\nC 348.460486 242.506283 363.970675 257.460493 382.891856 266.594368 \r\nC 401.813037 275.728244 423.169848 278.570947 443.821451 274.704414 \r\nC 464.473053 270.837882 483.354885 260.461429 497.69009 245.101068 \r\nC 512.025294 229.740707 521.07491 210.188245 523.508057 189.319163 \r\nL 425.7 177.915625 \r\nL 338.642295 223.930979 \r\nz\r\n\" style=\"fill:#ff7f0e;\"/>\r\n   </g>\r\n   <g id=\"patch_38\">\r\n    <path d=\"M 523.508057 189.319163 \r\nC 523.508246 189.317546 523.508434 189.31593 523.508623 189.314313 \r\nC 523.508811 189.312696 523.508999 189.31108 523.509188 189.309463 \r\nL 425.7 177.915625 \r\nL 523.508057 189.319163 \r\nz\r\n\" style=\"fill:#2ca02c;\"/>\r\n   </g>\r\n   <g id=\"patch_39\">\r\n    <path d=\"M 523.509188 189.309463 \r\nC 523.509439 189.307307 523.50969 189.305152 523.509941 189.302996 \r\nC 523.510192 189.30084 523.510443 189.298685 523.510694 189.296529 \r\nL 425.7 177.915625 \r\nL 523.509188 189.309463 \r\nz\r\n\" style=\"fill:#d62728;\"/>\r\n   </g>\r\n   <g id=\"patch_40\">\r\n    <path d=\"M 523.510694 189.296529 \r\nC 523.510694 189.296529 523.510694 189.296529 523.510694 189.296529 \r\nL 425.7 177.915625 \r\nL 523.510694 189.296529 \r\nz\r\n\" style=\"fill:#9467bd;\"/>\r\n   </g>\r\n   <g id=\"patch_41\">\r\n    <path d=\"M 523.510694 189.296529 \r\nC 523.575845 188.736603 523.636186 188.176127 523.691712 187.615164 \r\nC 523.747238 187.054202 523.797946 186.492772 523.843831 185.930939 \r\nL 425.7 177.915625 \r\nL 523.510694 189.296529 \r\nz\r\n\" style=\"fill:#8c564b;\"/>\r\n   </g>\r\n   <g id=\"patch_42\">\r\n    <path d=\"M 523.843831 185.930939 \r\nC 523.84414 185.927154 523.844449 185.923368 523.844757 185.919583 \r\nC 523.845066 185.915798 523.845375 185.912013 523.845683 185.908227 \r\nL 425.7 177.915625 \r\nL 523.843831 185.930939 \r\nz\r\n\" style=\"fill:#e377c2;\"/>\r\n   </g>\r\n   <g id=\"patch_43\">\r\n    <path d=\"M 523.845683 185.908227 \r\nC 523.908039 185.142515 523.961433 184.376098 524.005853 183.609136 \r\nC 524.050272 182.842174 524.085715 182.074718 524.112173 181.306926 \r\nL 425.7 177.915625 \r\nL 523.845683 185.908227 \r\nz\r\n\" style=\"fill:#7f7f7f;\"/>\r\n   </g>\r\n   <g id=\"patch_44\">\r\n    <path d=\"M 524.112173 181.306926 \r\nC 524.112173 181.306926 524.112173 181.306926 524.112173 181.306926 \r\nL 425.7 177.915625 \r\nL 524.112173 181.306926 \r\nz\r\n\" style=\"fill:#bcbd22;\"/>\r\n   </g>\r\n   <g id=\"patch_45\">\r\n    <path d=\"M 524.112173 181.306926 \r\nC 524.112211 181.305841 524.112248 181.304757 524.112285 181.303673 \r\nC 524.112323 181.302588 524.11236 181.301504 524.112397 181.300419 \r\nL 425.7 177.915625 \r\nL 524.112173 181.306926 \r\nz\r\n\" style=\"fill:#17becf;\"/>\r\n   </g>\r\n   <g id=\"patch_46\">\r\n    <path d=\"M 524.112397 181.300419 \r\nC 524.112397 181.300419 524.112397 181.300419 524.112397 181.300419 \r\nL 425.7 177.915625 \r\nL 524.112397 181.300419 \r\nz\r\n\" style=\"fill:#1f77b4;\"/>\r\n   </g>\r\n   <g id=\"patch_47\">\r\n    <path d=\"M 524.112397 181.300419 \r\nC 524.131419 180.747351 524.145779 180.194131 524.155474 179.640821 \r\nC 524.16517 179.08751 524.170201 178.534127 524.170567 177.980732 \r\nL 425.7 177.915625 \r\nL 524.112397 181.300419 \r\nz\r\n\" style=\"fill:#ff7f0e;\"/>\r\n   </g>\r\n   <g id=\"patch_48\">\r\n    <path d=\"M 524.170567 177.980732 \r\nC 524.170574 177.969881 524.170579 177.95903 524.170583 177.948179 \r\nC 524.170586 177.937329 524.170588 177.926478 524.170588 177.915627 \r\nL 425.7 177.915625 \r\nL 524.170567 177.980732 \r\nz\r\n\" style=\"fill:#2ca02c;\"/>\r\n   </g>\r\n   <g id=\"matplotlib.axis_3\"/>\r\n   <g id=\"matplotlib.axis_4\"/>\r\n   <g id=\"text_2\">\r\n    <!-- TCP -->\r\n    <g transform=\"translate(414.580313 48.82739)scale(0.12 -0.12)\">\r\n     <defs>\r\n      <path d=\"M -0.296875 72.90625 \r\nL 61.375 72.90625 \r\nL 61.375 64.59375 \r\nL 35.5 64.59375 \r\nL 35.5 0 \r\nL 25.59375 0 \r\nL 25.59375 64.59375 \r\nL -0.296875 64.59375 \r\nz\r\n\" id=\"DejaVuSans-84\"/>\r\n     </defs>\r\n     <use xlink:href=\"#DejaVuSans-84\"/>\r\n     <use x=\"55.208984\" xlink:href=\"#DejaVuSans-67\"/>\r\n     <use x=\"125.033203\" xlink:href=\"#DejaVuSans-80\"/>\r\n    </g>\r\n   </g>\r\n   <g id=\"legend_2\">\r\n    <g id=\"patch_49\">\r\n     <path d=\"M 537.788235 67.82739 \r\nL 541.788235 67.82739 \r\nQ 543.788235 67.82739 543.788235 65.82739 \r\nL 543.788235 61.82739 \r\nQ 543.788235 59.82739 541.788235 59.82739 \r\nL 537.788235 59.82739 \r\nQ 535.788235 59.82739 535.788235 61.82739 \r\nL 535.788235 65.82739 \r\nQ 535.788235 67.82739 537.788235 67.82739 \r\nz\r\n\" style=\"fill:#ffffff;opacity:0.8;stroke:#cccccc;stroke-linejoin:miter;\"/>\r\n    </g>\r\n   </g>\r\n  </g>\r\n  <g id=\"axes_3\">\r\n   <g id=\"patch_50\">\r\n    <path d=\"M 819.582353 177.915625 \r\nC 819.582353 177.915625 819.582353 177.915625 819.582353 177.915625 \r\nL 721.111765 177.915625 \r\nL 819.582353 177.915625 \r\nz\r\n\" style=\"fill:#1f77b4;\"/>\r\n   </g>\r\n   <g id=\"patch_51\">\r\n    <path d=\"M 819.582353 177.915625 \r\nC 819.582353 177.915625 819.582353 177.915625 819.582353 177.915625 \r\nL 721.111765 177.915625 \r\nL 819.582353 177.915625 \r\nz\r\n\" style=\"fill:#ff7f0e;\"/>\r\n   </g>\r\n   <g id=\"patch_52\">\r\n    <path d=\"M 819.582353 177.915625 \r\nC 819.582353 177.915625 819.582353 177.915625 819.582353 177.915625 \r\nL 721.111765 177.915625 \r\nL 819.582353 177.915625 \r\nz\r\n\" style=\"fill:#2ca02c;\"/>\r\n   </g>\r\n   <g id=\"patch_53\">\r\n    <path d=\"M 819.582353 177.915625 \r\nC 819.582353 177.915625 819.582353 177.915625 819.582353 177.915625 \r\nL 721.111765 177.915625 \r\nL 819.582353 177.915625 \r\nz\r\n\" style=\"fill:#d62728;\"/>\r\n   </g>\r\n   <g id=\"patch_54\">\r\n    <path d=\"M 819.582353 177.915625 \r\nC 819.582353 177.915625 819.582353 177.915625 819.582353 177.915625 \r\nL 721.111765 177.915625 \r\nL 819.582353 177.915625 \r\nz\r\n\" style=\"fill:#9467bd;\"/>\r\n   </g>\r\n   <g id=\"patch_55\">\r\n    <path d=\"M 819.582353 177.915625 \r\nC 819.582353 177.915625 819.582353 177.915625 819.582353 177.915625 \r\nL 721.111765 177.915625 \r\nL 819.582353 177.915625 \r\nz\r\n\" style=\"fill:#8c564b;\"/>\r\n   </g>\r\n   <g id=\"patch_56\">\r\n    <path d=\"M 819.582353 177.915625 \r\nC 819.582353 177.915625 819.582353 177.915625 819.582353 177.915625 \r\nL 721.111765 177.915625 \r\nL 819.582353 177.915625 \r\nz\r\n\" style=\"fill:#e377c2;\"/>\r\n   </g>\r\n   <g id=\"patch_57\">\r\n    <path d=\"M 819.582353 177.915625 \r\nC 819.582353 177.915625 819.582353 177.915625 819.582353 177.915625 \r\nL 721.111765 177.915625 \r\nL 819.582353 177.915625 \r\nz\r\n\" style=\"fill:#7f7f7f;\"/>\r\n   </g>\r\n   <g id=\"patch_58\">\r\n    <path d=\"M 819.582353 177.915625 \r\nC 819.582353 177.915625 819.582353 177.915625 819.582353 177.915625 \r\nL 721.111765 177.915625 \r\nL 819.582353 177.915625 \r\nz\r\n\" style=\"fill:#bcbd22;\"/>\r\n   </g>\r\n   <g id=\"patch_59\">\r\n    <path d=\"M 819.582353 177.915625 \r\nC 819.582353 177.915625 819.582353 177.915625 819.582353 177.915625 \r\nL 721.111765 177.915625 \r\nL 819.582353 177.915625 \r\nz\r\n\" style=\"fill:#17becf;\"/>\r\n   </g>\r\n   <g id=\"patch_60\">\r\n    <path d=\"M 819.582353 177.915625 \r\nC 819.582353 177.788969 819.582109 177.662313 819.58162 177.535658 \r\nC 819.581131 177.409003 819.580398 177.282349 819.579421 177.155697 \r\nL 721.111765 177.915625 \r\nL 819.582353 177.915625 \r\nz\r\n\" style=\"fill:#1f77b4;\"/>\r\n   </g>\r\n   <g id=\"patch_61\">\r\n    <path d=\"M 819.579421 177.155697 \r\nC 819.485432 164.97713 817.13287 152.921017 812.64139 141.600552 \r\nC 808.149909 130.280087 801.596972 119.890505 793.31587 110.960237 \r\nC 785.034768 102.02997 775.16832 94.71303 764.21835 89.381569 \r\nC 753.268379 84.050108 741.423732 80.796075 729.286846 79.784973 \r\nC 717.14996 78.773872 704.930151 80.023141 693.248939 83.46924 \r\nC 681.567726 86.915339 670.626567 92.498836 660.981946 99.935745 \r\nC 651.337325 107.372654 643.155577 116.534717 636.852837 126.955936 \r\nC 630.550098 137.377155 626.235066 148.877803 624.127211 160.872938 \r\nC 622.019357 172.868074 622.155032 185.150826 624.527336 197.096474 \r\nC 626.899641 209.042121 631.467661 220.444647 637.99906 230.7241 \r\nC 644.530459 241.003553 652.912595 249.982651 662.719138 257.204703 \r\nC 672.525682 264.426755 683.587507 269.767207 695.341991 272.954436 \r\nC 707.096475 276.141664 719.340898 277.120701 731.452488 275.841751 \r\nC 743.564078 274.562801 755.333956 271.047922 766.163487 265.475885 \r\nC 776.993017 259.903848 786.695432 252.37075 794.77725 243.259738 \r\nC 802.859067 234.148725 809.180908 223.616929 813.421231 212.200012 \r\nL 721.111765 177.915625 \r\nL 819.579421 177.155697 \r\nz\r\n\" style=\"fill:#ff7f0e;\"/>\r\n   </g>\r\n   <g id=\"patch_62\">\r\n    <path d=\"M 813.421231 212.200012 \r\nC 813.421231 212.200012 813.421231 212.200012 813.421231 212.200012 \r\nL 721.111765 177.915625 \r\nL 813.421231 212.200012 \r\nz\r\n\" style=\"fill:#2ca02c;\"/>\r\n   </g>\r\n   <g id=\"patch_63\">\r\n    <path d=\"M 813.421231 212.200012 \r\nC 813.421231 212.200012 813.421231 212.200012 813.421231 212.200012 \r\nL 721.111765 177.915625 \r\nL 813.421231 212.200012 \r\nz\r\n\" style=\"fill:#d62728;\"/>\r\n   </g>\r\n   <g id=\"patch_64\">\r\n    <path d=\"M 813.421231 212.200012 \r\nC 813.421231 212.200012 813.421231 212.200012 813.421231 212.200012 \r\nL 721.111765 177.915625 \r\nL 813.421231 212.200012 \r\nz\r\n\" style=\"fill:#9467bd;\"/>\r\n   </g>\r\n   <g id=\"patch_65\">\r\n    <path d=\"M 813.421231 212.200012 \r\nC 813.421231 212.200012 813.421231 212.200012 813.421231 212.200012 \r\nL 721.111765 177.915625 \r\nL 813.421231 212.200012 \r\nz\r\n\" style=\"fill:#8c564b;\"/>\r\n   </g>\r\n   <g id=\"patch_66\">\r\n    <path d=\"M 813.421231 212.200012 \r\nC 813.426523 212.185764 813.431811 212.171515 813.437096 212.157265 \r\nC 813.442381 212.143015 813.447663 212.128763 813.452942 212.114511 \r\nL 721.111765 177.915625 \r\nL 813.421231 212.200012 \r\nz\r\n\" style=\"fill:#e377c2;\"/>\r\n   </g>\r\n   <g id=\"patch_67\">\r\n    <path d=\"M 813.452942 212.114511 \r\nC 813.752062 211.306849 814.040573 210.495298 814.318401 209.680067 \r\nC 814.596228 208.864835 814.863348 208.045994 815.119691 207.223754 \r\nL 721.111765 177.915625 \r\nL 813.452942 212.114511 \r\nz\r\n\" style=\"fill:#7f7f7f;\"/>\r\n   </g>\r\n   <g id=\"patch_68\">\r\n    <path d=\"M 815.119691 207.223754 \r\nC 815.119691 207.223754 815.119691 207.223754 815.119691 207.223754 \r\nL 721.111765 177.915625 \r\nL 815.119691 207.223754 \r\nz\r\n\" style=\"fill:#bcbd22;\"/>\r\n   </g>\r\n   <g id=\"patch_69\">\r\n    <path d=\"M 815.119691 207.223754 \r\nC 815.119691 207.223754 815.119691 207.223754 815.119691 207.223754 \r\nL 721.111765 177.915625 \r\nL 815.119691 207.223754 \r\nz\r\n\" style=\"fill:#17becf;\"/>\r\n   </g>\r\n   <g id=\"patch_70\">\r\n    <path d=\"M 815.119691 207.223754 \r\nC 816.596608 202.486437 817.713325 197.644251 818.460295 192.738592 \r\nC 819.207265 187.832932 819.582353 182.87782 819.582353 177.915618 \r\nL 721.111765 177.915625 \r\nL 815.119691 207.223754 \r\nz\r\n\" style=\"fill:#1f77b4;\"/>\r\n   </g>\r\n   <g id=\"patch_71\">\r\n    <path d=\"M 819.582353 177.915618 \r\nC 819.582353 177.915618 819.582353 177.915618 819.582353 177.915618 \r\nL 721.111765 177.915625 \r\nL 819.582353 177.915618 \r\nz\r\n\" style=\"fill:#ff7f0e;\"/>\r\n   </g>\r\n   <g id=\"patch_72\">\r\n    <path d=\"M 819.582353 177.915618 \r\nC 819.582353 177.915618 819.582353 177.915618 819.582353 177.915618 \r\nL 721.111765 177.915625 \r\nL 819.582353 177.915618 \r\nz\r\n\" style=\"fill:#2ca02c;\"/>\r\n   </g>\r\n   <g id=\"matplotlib.axis_5\"/>\r\n   <g id=\"matplotlib.axis_6\"/>\r\n   <g id=\"text_3\">\r\n    <!-- UDP -->\r\n    <g transform=\"translate(708.482702 48.82739)scale(0.12 -0.12)\">\r\n     <defs>\r\n      <path d=\"M 8.6875 72.90625 \r\nL 18.609375 72.90625 \r\nL 18.609375 28.609375 \r\nQ 18.609375 16.890625 22.84375 11.734375 \r\nQ 27.09375 6.59375 36.625 6.59375 \r\nQ 46.09375 6.59375 50.34375 11.734375 \r\nQ 54.59375 16.890625 54.59375 28.609375 \r\nL 54.59375 72.90625 \r\nL 64.5 72.90625 \r\nL 64.5 27.390625 \r\nQ 64.5 13.140625 57.4375 5.859375 \r\nQ 50.390625 -1.421875 36.625 -1.421875 \r\nQ 22.796875 -1.421875 15.734375 5.859375 \r\nQ 8.6875 13.140625 8.6875 27.390625 \r\nz\r\n\" id=\"DejaVuSans-85\"/>\r\n      <path d=\"M 19.671875 64.796875 \r\nL 19.671875 8.109375 \r\nL 31.59375 8.109375 \r\nQ 46.6875 8.109375 53.6875 14.9375 \r\nQ 60.6875 21.78125 60.6875 36.53125 \r\nQ 60.6875 51.171875 53.6875 57.984375 \r\nQ 46.6875 64.796875 31.59375 64.796875 \r\nz\r\nM 9.8125 72.90625 \r\nL 30.078125 72.90625 \r\nQ 51.265625 72.90625 61.171875 64.09375 \r\nQ 71.09375 55.28125 71.09375 36.53125 \r\nQ 71.09375 17.671875 61.125 8.828125 \r\nQ 51.171875 0 30.078125 0 \r\nL 9.8125 0 \r\nz\r\n\" id=\"DejaVuSans-68\"/>\r\n     </defs>\r\n     <use xlink:href=\"#DejaVuSans-85\"/>\r\n     <use x=\"73.193359\" xlink:href=\"#DejaVuSans-68\"/>\r\n     <use x=\"150.195312\" xlink:href=\"#DejaVuSans-80\"/>\r\n    </g>\r\n   </g>\r\n   <g id=\"legend_3\">\r\n    <g id=\"patch_73\">\r\n     <path d=\"M 851.2 348.63125 \r\nL 963.353125 348.63125 \r\nQ 965.353125 348.63125 965.353125 346.63125 \r\nL 965.353125 9.2 \r\nQ 965.353125 7.2 963.353125 7.2 \r\nL 851.2 7.2 \r\nQ 849.2 7.2 849.2 9.2 \r\nL 849.2 346.63125 \r\nQ 849.2 348.63125 851.2 348.63125 \r\nz\r\n\" style=\"fill:#ffffff;opacity:0.8;stroke:#cccccc;stroke-linejoin:miter;\"/>\r\n    </g>\r\n    <g id=\"patch_74\">\r\n     <path d=\"M 853.2 18.798437 \r\nL 873.2 18.798437 \r\nL 873.2 11.798437 \r\nL 853.2 11.798437 \r\nz\r\n\" style=\"fill:#1f77b4;\"/>\r\n    </g>\r\n    <g id=\"text_4\">\r\n     <!-- back. -->\r\n     <g transform=\"translate(881.2 18.798437)scale(0.1 -0.1)\">\r\n      <defs>\r\n       <path d=\"M 48.6875 27.296875 \r\nQ 48.6875 37.203125 44.609375 42.84375 \r\nQ 40.53125 48.484375 33.40625 48.484375 \r\nQ 26.265625 48.484375 22.1875 42.84375 \r\nQ 18.109375 37.203125 18.109375 27.296875 \r\nQ 18.109375 17.390625 22.1875 11.75 \r\nQ 26.265625 6.109375 33.40625 6.109375 \r\nQ 40.53125 6.109375 44.609375 11.75 \r\nQ 48.6875 17.390625 48.6875 27.296875 \r\nz\r\nM 18.109375 46.390625 \r\nQ 20.953125 51.265625 25.265625 53.625 \r\nQ 29.59375 56 35.59375 56 \r\nQ 45.5625 56 51.78125 48.09375 \r\nQ 58.015625 40.1875 58.015625 27.296875 \r\nQ 58.015625 14.40625 51.78125 6.484375 \r\nQ 45.5625 -1.421875 35.59375 -1.421875 \r\nQ 29.59375 -1.421875 25.265625 0.953125 \r\nQ 20.953125 3.328125 18.109375 8.203125 \r\nL 18.109375 0 \r\nL 9.078125 0 \r\nL 9.078125 75.984375 \r\nL 18.109375 75.984375 \r\nz\r\n\" id=\"DejaVuSans-98\"/>\r\n       <path d=\"M 34.28125 27.484375 \r\nQ 23.390625 27.484375 19.1875 25 \r\nQ 14.984375 22.515625 14.984375 16.5 \r\nQ 14.984375 11.71875 18.140625 8.90625 \r\nQ 21.296875 6.109375 26.703125 6.109375 \r\nQ 34.1875 6.109375 38.703125 11.40625 \r\nQ 43.21875 16.703125 43.21875 25.484375 \r\nL 43.21875 27.484375 \r\nz\r\nM 52.203125 31.203125 \r\nL 52.203125 0 \r\nL 43.21875 0 \r\nL 43.21875 8.296875 \r\nQ 40.140625 3.328125 35.546875 0.953125 \r\nQ 30.953125 -1.421875 24.3125 -1.421875 \r\nQ 15.921875 -1.421875 10.953125 3.296875 \r\nQ 6 8.015625 6 15.921875 \r\nQ 6 25.140625 12.171875 29.828125 \r\nQ 18.359375 34.515625 30.609375 34.515625 \r\nL 43.21875 34.515625 \r\nL 43.21875 35.40625 \r\nQ 43.21875 41.609375 39.140625 45 \r\nQ 35.0625 48.390625 27.6875 48.390625 \r\nQ 23 48.390625 18.546875 47.265625 \r\nQ 14.109375 46.140625 10.015625 43.890625 \r\nL 10.015625 52.203125 \r\nQ 14.9375 54.109375 19.578125 55.046875 \r\nQ 24.21875 56 28.609375 56 \r\nQ 40.484375 56 46.34375 49.84375 \r\nQ 52.203125 43.703125 52.203125 31.203125 \r\nz\r\n\" id=\"DejaVuSans-97\"/>\r\n       <path d=\"M 48.78125 52.59375 \r\nL 48.78125 44.1875 \r\nQ 44.96875 46.296875 41.140625 47.34375 \r\nQ 37.3125 48.390625 33.40625 48.390625 \r\nQ 24.65625 48.390625 19.8125 42.84375 \r\nQ 14.984375 37.3125 14.984375 27.296875 \r\nQ 14.984375 17.28125 19.8125 11.734375 \r\nQ 24.65625 6.203125 33.40625 6.203125 \r\nQ 37.3125 6.203125 41.140625 7.25 \r\nQ 44.96875 8.296875 48.78125 10.40625 \r\nL 48.78125 2.09375 \r\nQ 45.015625 0.34375 40.984375 -0.53125 \r\nQ 36.96875 -1.421875 32.421875 -1.421875 \r\nQ 20.0625 -1.421875 12.78125 6.34375 \r\nQ 5.515625 14.109375 5.515625 27.296875 \r\nQ 5.515625 40.671875 12.859375 48.328125 \r\nQ 20.21875 56 33.015625 56 \r\nQ 37.15625 56 41.109375 55.140625 \r\nQ 45.0625 54.296875 48.78125 52.59375 \r\nz\r\n\" id=\"DejaVuSans-99\"/>\r\n       <path d=\"M 9.078125 75.984375 \r\nL 18.109375 75.984375 \r\nL 18.109375 31.109375 \r\nL 44.921875 54.6875 \r\nL 56.390625 54.6875 \r\nL 27.390625 29.109375 \r\nL 57.625 0 \r\nL 45.90625 0 \r\nL 18.109375 26.703125 \r\nL 18.109375 0 \r\nL 9.078125 0 \r\nz\r\n\" id=\"DejaVuSans-107\"/>\r\n       <path d=\"M 10.6875 12.40625 \r\nL 21 12.40625 \r\nL 21 0 \r\nL 10.6875 0 \r\nz\r\n\" id=\"DejaVuSans-46\"/>\r\n      </defs>\r\n      <use xlink:href=\"#DejaVuSans-98\"/>\r\n      <use x=\"63.476562\" xlink:href=\"#DejaVuSans-97\"/>\r\n      <use x=\"124.755859\" xlink:href=\"#DejaVuSans-99\"/>\r\n      <use x=\"179.736328\" xlink:href=\"#DejaVuSans-107\"/>\r\n      <use x=\"237.646484\" xlink:href=\"#DejaVuSans-46\"/>\r\n     </g>\r\n    </g>\r\n    <g id=\"patch_75\">\r\n     <path d=\"M 853.2 33.476562 \r\nL 873.2 33.476562 \r\nL 873.2 26.476562 \r\nL 853.2 26.476562 \r\nz\r\n\" style=\"fill:#ff7f0e;\"/>\r\n    </g>\r\n    <g id=\"text_5\">\r\n     <!-- buffer_overflow. -->\r\n     <g transform=\"translate(881.2 33.476562)scale(0.1 -0.1)\">\r\n      <defs>\r\n       <path d=\"M 8.5 21.578125 \r\nL 8.5 54.6875 \r\nL 17.484375 54.6875 \r\nL 17.484375 21.921875 \r\nQ 17.484375 14.15625 20.5 10.265625 \r\nQ 23.53125 6.390625 29.59375 6.390625 \r\nQ 36.859375 6.390625 41.078125 11.03125 \r\nQ 45.3125 15.671875 45.3125 23.6875 \r\nL 45.3125 54.6875 \r\nL 54.296875 54.6875 \r\nL 54.296875 0 \r\nL 45.3125 0 \r\nL 45.3125 8.40625 \r\nQ 42.046875 3.421875 37.71875 1 \r\nQ 33.40625 -1.421875 27.6875 -1.421875 \r\nQ 18.265625 -1.421875 13.375 4.4375 \r\nQ 8.5 10.296875 8.5 21.578125 \r\nz\r\nM 31.109375 56 \r\nz\r\n\" id=\"DejaVuSans-117\"/>\r\n       <path d=\"M 37.109375 75.984375 \r\nL 37.109375 68.5 \r\nL 28.515625 68.5 \r\nQ 23.6875 68.5 21.796875 66.546875 \r\nQ 19.921875 64.59375 19.921875 59.515625 \r\nL 19.921875 54.6875 \r\nL 34.71875 54.6875 \r\nL 34.71875 47.703125 \r\nL 19.921875 47.703125 \r\nL 19.921875 0 \r\nL 10.890625 0 \r\nL 10.890625 47.703125 \r\nL 2.296875 47.703125 \r\nL 2.296875 54.6875 \r\nL 10.890625 54.6875 \r\nL 10.890625 58.5 \r\nQ 10.890625 67.625 15.140625 71.796875 \r\nQ 19.390625 75.984375 28.609375 75.984375 \r\nz\r\n\" id=\"DejaVuSans-102\"/>\r\n       <path d=\"M 56.203125 29.59375 \r\nL 56.203125 25.203125 \r\nL 14.890625 25.203125 \r\nQ 15.484375 15.921875 20.484375 11.0625 \r\nQ 25.484375 6.203125 34.421875 6.203125 \r\nQ 39.59375 6.203125 44.453125 7.46875 \r\nQ 49.3125 8.734375 54.109375 11.28125 \r\nL 54.109375 2.78125 \r\nQ 49.265625 0.734375 44.1875 -0.34375 \r\nQ 39.109375 -1.421875 33.890625 -1.421875 \r\nQ 20.796875 -1.421875 13.15625 6.1875 \r\nQ 5.515625 13.8125 5.515625 26.8125 \r\nQ 5.515625 40.234375 12.765625 48.109375 \r\nQ 20.015625 56 32.328125 56 \r\nQ 43.359375 56 49.78125 48.890625 \r\nQ 56.203125 41.796875 56.203125 29.59375 \r\nz\r\nM 47.21875 32.234375 \r\nQ 47.125 39.59375 43.09375 43.984375 \r\nQ 39.0625 48.390625 32.421875 48.390625 \r\nQ 24.90625 48.390625 20.390625 44.140625 \r\nQ 15.875 39.890625 15.1875 32.171875 \r\nz\r\n\" id=\"DejaVuSans-101\"/>\r\n       <path d=\"M 41.109375 46.296875 \r\nQ 39.59375 47.171875 37.8125 47.578125 \r\nQ 36.03125 48 33.890625 48 \r\nQ 26.265625 48 22.1875 43.046875 \r\nQ 18.109375 38.09375 18.109375 28.8125 \r\nL 18.109375 0 \r\nL 9.078125 0 \r\nL 9.078125 54.6875 \r\nL 18.109375 54.6875 \r\nL 18.109375 46.1875 \r\nQ 20.953125 51.171875 25.484375 53.578125 \r\nQ 30.03125 56 36.53125 56 \r\nQ 37.453125 56 38.578125 55.875 \r\nQ 39.703125 55.765625 41.0625 55.515625 \r\nz\r\n\" id=\"DejaVuSans-114\"/>\r\n       <path d=\"M 50.984375 -16.609375 \r\nL 50.984375 -23.578125 \r\nL -0.984375 -23.578125 \r\nL -0.984375 -16.609375 \r\nz\r\n\" id=\"DejaVuSans-95\"/>\r\n       <path d=\"M 30.609375 48.390625 \r\nQ 23.390625 48.390625 19.1875 42.75 \r\nQ 14.984375 37.109375 14.984375 27.296875 \r\nQ 14.984375 17.484375 19.15625 11.84375 \r\nQ 23.34375 6.203125 30.609375 6.203125 \r\nQ 37.796875 6.203125 41.984375 11.859375 \r\nQ 46.1875 17.53125 46.1875 27.296875 \r\nQ 46.1875 37.015625 41.984375 42.703125 \r\nQ 37.796875 48.390625 30.609375 48.390625 \r\nz\r\nM 30.609375 56 \r\nQ 42.328125 56 49.015625 48.375 \r\nQ 55.71875 40.765625 55.71875 27.296875 \r\nQ 55.71875 13.875 49.015625 6.21875 \r\nQ 42.328125 -1.421875 30.609375 -1.421875 \r\nQ 18.84375 -1.421875 12.171875 6.21875 \r\nQ 5.515625 13.875 5.515625 27.296875 \r\nQ 5.515625 40.765625 12.171875 48.375 \r\nQ 18.84375 56 30.609375 56 \r\nz\r\n\" id=\"DejaVuSans-111\"/>\r\n       <path d=\"M 2.984375 54.6875 \r\nL 12.5 54.6875 \r\nL 29.59375 8.796875 \r\nL 46.6875 54.6875 \r\nL 56.203125 54.6875 \r\nL 35.6875 0 \r\nL 23.484375 0 \r\nz\r\n\" id=\"DejaVuSans-118\"/>\r\n       <path d=\"M 9.421875 75.984375 \r\nL 18.40625 75.984375 \r\nL 18.40625 0 \r\nL 9.421875 0 \r\nz\r\n\" id=\"DejaVuSans-108\"/>\r\n       <path d=\"M 4.203125 54.6875 \r\nL 13.1875 54.6875 \r\nL 24.421875 12.015625 \r\nL 35.59375 54.6875 \r\nL 46.1875 54.6875 \r\nL 57.421875 12.015625 \r\nL 68.609375 54.6875 \r\nL 77.59375 54.6875 \r\nL 63.28125 0 \r\nL 52.6875 0 \r\nL 40.921875 44.828125 \r\nL 29.109375 0 \r\nL 18.5 0 \r\nz\r\n\" id=\"DejaVuSans-119\"/>\r\n      </defs>\r\n      <use xlink:href=\"#DejaVuSans-98\"/>\r\n      <use x=\"63.476562\" xlink:href=\"#DejaVuSans-117\"/>\r\n      <use x=\"126.855469\" xlink:href=\"#DejaVuSans-102\"/>\r\n      <use x=\"162.060547\" xlink:href=\"#DejaVuSans-102\"/>\r\n      <use x=\"197.265625\" xlink:href=\"#DejaVuSans-101\"/>\r\n      <use x=\"258.789062\" xlink:href=\"#DejaVuSans-114\"/>\r\n      <use x=\"299.902344\" xlink:href=\"#DejaVuSans-95\"/>\r\n      <use x=\"349.902344\" xlink:href=\"#DejaVuSans-111\"/>\r\n      <use x=\"411.083984\" xlink:href=\"#DejaVuSans-118\"/>\r\n      <use x=\"470.263672\" xlink:href=\"#DejaVuSans-101\"/>\r\n      <use x=\"531.787109\" xlink:href=\"#DejaVuSans-114\"/>\r\n      <use x=\"572.900391\" xlink:href=\"#DejaVuSans-102\"/>\r\n      <use x=\"608.105469\" xlink:href=\"#DejaVuSans-108\"/>\r\n      <use x=\"635.888672\" xlink:href=\"#DejaVuSans-111\"/>\r\n      <use x=\"697.070312\" xlink:href=\"#DejaVuSans-119\"/>\r\n      <use x=\"769.732422\" xlink:href=\"#DejaVuSans-46\"/>\r\n     </g>\r\n    </g>\r\n    <g id=\"patch_76\">\r\n     <path d=\"M 853.2 48.432812 \r\nL 873.2 48.432812 \r\nL 873.2 41.432812 \r\nL 853.2 41.432812 \r\nz\r\n\" style=\"fill:#2ca02c;\"/>\r\n    </g>\r\n    <g id=\"text_6\">\r\n     <!-- ftp_write. -->\r\n     <g transform=\"translate(881.2 48.432812)scale(0.1 -0.1)\">\r\n      <defs>\r\n       <path d=\"M 18.3125 70.21875 \r\nL 18.3125 54.6875 \r\nL 36.8125 54.6875 \r\nL 36.8125 47.703125 \r\nL 18.3125 47.703125 \r\nL 18.3125 18.015625 \r\nQ 18.3125 11.328125 20.140625 9.421875 \r\nQ 21.96875 7.515625 27.59375 7.515625 \r\nL 36.8125 7.515625 \r\nL 36.8125 0 \r\nL 27.59375 0 \r\nQ 17.1875 0 13.234375 3.875 \r\nQ 9.28125 7.765625 9.28125 18.015625 \r\nL 9.28125 47.703125 \r\nL 2.6875 47.703125 \r\nL 2.6875 54.6875 \r\nL 9.28125 54.6875 \r\nL 9.28125 70.21875 \r\nz\r\n\" id=\"DejaVuSans-116\"/>\r\n       <path d=\"M 18.109375 8.203125 \r\nL 18.109375 -20.796875 \r\nL 9.078125 -20.796875 \r\nL 9.078125 54.6875 \r\nL 18.109375 54.6875 \r\nL 18.109375 46.390625 \r\nQ 20.953125 51.265625 25.265625 53.625 \r\nQ 29.59375 56 35.59375 56 \r\nQ 45.5625 56 51.78125 48.09375 \r\nQ 58.015625 40.1875 58.015625 27.296875 \r\nQ 58.015625 14.40625 51.78125 6.484375 \r\nQ 45.5625 -1.421875 35.59375 -1.421875 \r\nQ 29.59375 -1.421875 25.265625 0.953125 \r\nQ 20.953125 3.328125 18.109375 8.203125 \r\nz\r\nM 48.6875 27.296875 \r\nQ 48.6875 37.203125 44.609375 42.84375 \r\nQ 40.53125 48.484375 33.40625 48.484375 \r\nQ 26.265625 48.484375 22.1875 42.84375 \r\nQ 18.109375 37.203125 18.109375 27.296875 \r\nQ 18.109375 17.390625 22.1875 11.75 \r\nQ 26.265625 6.109375 33.40625 6.109375 \r\nQ 40.53125 6.109375 44.609375 11.75 \r\nQ 48.6875 17.390625 48.6875 27.296875 \r\nz\r\n\" id=\"DejaVuSans-112\"/>\r\n       <path d=\"M 9.421875 54.6875 \r\nL 18.40625 54.6875 \r\nL 18.40625 0 \r\nL 9.421875 0 \r\nz\r\nM 9.421875 75.984375 \r\nL 18.40625 75.984375 \r\nL 18.40625 64.59375 \r\nL 9.421875 64.59375 \r\nz\r\n\" id=\"DejaVuSans-105\"/>\r\n      </defs>\r\n      <use xlink:href=\"#DejaVuSans-102\"/>\r\n      <use x=\"33.455078\" xlink:href=\"#DejaVuSans-116\"/>\r\n      <use x=\"72.664062\" xlink:href=\"#DejaVuSans-112\"/>\r\n      <use x=\"136.140625\" xlink:href=\"#DejaVuSans-95\"/>\r\n      <use x=\"186.140625\" xlink:href=\"#DejaVuSans-119\"/>\r\n      <use x=\"267.927734\" xlink:href=\"#DejaVuSans-114\"/>\r\n      <use x=\"309.041016\" xlink:href=\"#DejaVuSans-105\"/>\r\n      <use x=\"336.824219\" xlink:href=\"#DejaVuSans-116\"/>\r\n      <use x=\"376.033203\" xlink:href=\"#DejaVuSans-101\"/>\r\n      <use x=\"437.556641\" xlink:href=\"#DejaVuSans-46\"/>\r\n     </g>\r\n    </g>\r\n    <g id=\"patch_77\">\r\n     <path d=\"M 853.2 63.389062 \r\nL 873.2 63.389062 \r\nL 873.2 56.389062 \r\nL 853.2 56.389062 \r\nz\r\n\" style=\"fill:#d62728;\"/>\r\n    </g>\r\n    <g id=\"text_7\">\r\n     <!-- guess_passwd. -->\r\n     <g transform=\"translate(881.2 63.389062)scale(0.1 -0.1)\">\r\n      <defs>\r\n       <path d=\"M 45.40625 27.984375 \r\nQ 45.40625 37.75 41.375 43.109375 \r\nQ 37.359375 48.484375 30.078125 48.484375 \r\nQ 22.859375 48.484375 18.828125 43.109375 \r\nQ 14.796875 37.75 14.796875 27.984375 \r\nQ 14.796875 18.265625 18.828125 12.890625 \r\nQ 22.859375 7.515625 30.078125 7.515625 \r\nQ 37.359375 7.515625 41.375 12.890625 \r\nQ 45.40625 18.265625 45.40625 27.984375 \r\nz\r\nM 54.390625 6.78125 \r\nQ 54.390625 -7.171875 48.1875 -13.984375 \r\nQ 42 -20.796875 29.203125 -20.796875 \r\nQ 24.46875 -20.796875 20.265625 -20.09375 \r\nQ 16.0625 -19.390625 12.109375 -17.921875 \r\nL 12.109375 -9.1875 \r\nQ 16.0625 -11.328125 19.921875 -12.34375 \r\nQ 23.78125 -13.375 27.78125 -13.375 \r\nQ 36.625 -13.375 41.015625 -8.765625 \r\nQ 45.40625 -4.15625 45.40625 5.171875 \r\nL 45.40625 9.625 \r\nQ 42.625 4.78125 38.28125 2.390625 \r\nQ 33.9375 0 27.875 0 \r\nQ 17.828125 0 11.671875 7.65625 \r\nQ 5.515625 15.328125 5.515625 27.984375 \r\nQ 5.515625 40.671875 11.671875 48.328125 \r\nQ 17.828125 56 27.875 56 \r\nQ 33.9375 56 38.28125 53.609375 \r\nQ 42.625 51.21875 45.40625 46.390625 \r\nL 45.40625 54.6875 \r\nL 54.390625 54.6875 \r\nz\r\n\" id=\"DejaVuSans-103\"/>\r\n       <path d=\"M 44.28125 53.078125 \r\nL 44.28125 44.578125 \r\nQ 40.484375 46.53125 36.375 47.5 \r\nQ 32.28125 48.484375 27.875 48.484375 \r\nQ 21.1875 48.484375 17.84375 46.4375 \r\nQ 14.5 44.390625 14.5 40.28125 \r\nQ 14.5 37.15625 16.890625 35.375 \r\nQ 19.28125 33.59375 26.515625 31.984375 \r\nL 29.59375 31.296875 \r\nQ 39.15625 29.25 43.1875 25.515625 \r\nQ 47.21875 21.78125 47.21875 15.09375 \r\nQ 47.21875 7.46875 41.1875 3.015625 \r\nQ 35.15625 -1.421875 24.609375 -1.421875 \r\nQ 20.21875 -1.421875 15.453125 -0.5625 \r\nQ 10.6875 0.296875 5.421875 2 \r\nL 5.421875 11.28125 \r\nQ 10.40625 8.6875 15.234375 7.390625 \r\nQ 20.0625 6.109375 24.8125 6.109375 \r\nQ 31.15625 6.109375 34.5625 8.28125 \r\nQ 37.984375 10.453125 37.984375 14.40625 \r\nQ 37.984375 18.0625 35.515625 20.015625 \r\nQ 33.0625 21.96875 24.703125 23.78125 \r\nL 21.578125 24.515625 \r\nQ 13.234375 26.265625 9.515625 29.90625 \r\nQ 5.8125 33.546875 5.8125 39.890625 \r\nQ 5.8125 47.609375 11.28125 51.796875 \r\nQ 16.75 56 26.8125 56 \r\nQ 31.78125 56 36.171875 55.265625 \r\nQ 40.578125 54.546875 44.28125 53.078125 \r\nz\r\n\" id=\"DejaVuSans-115\"/>\r\n       <path d=\"M 45.40625 46.390625 \r\nL 45.40625 75.984375 \r\nL 54.390625 75.984375 \r\nL 54.390625 0 \r\nL 45.40625 0 \r\nL 45.40625 8.203125 \r\nQ 42.578125 3.328125 38.25 0.953125 \r\nQ 33.9375 -1.421875 27.875 -1.421875 \r\nQ 17.96875 -1.421875 11.734375 6.484375 \r\nQ 5.515625 14.40625 5.515625 27.296875 \r\nQ 5.515625 40.1875 11.734375 48.09375 \r\nQ 17.96875 56 27.875 56 \r\nQ 33.9375 56 38.25 53.625 \r\nQ 42.578125 51.265625 45.40625 46.390625 \r\nz\r\nM 14.796875 27.296875 \r\nQ 14.796875 17.390625 18.875 11.75 \r\nQ 22.953125 6.109375 30.078125 6.109375 \r\nQ 37.203125 6.109375 41.296875 11.75 \r\nQ 45.40625 17.390625 45.40625 27.296875 \r\nQ 45.40625 37.203125 41.296875 42.84375 \r\nQ 37.203125 48.484375 30.078125 48.484375 \r\nQ 22.953125 48.484375 18.875 42.84375 \r\nQ 14.796875 37.203125 14.796875 27.296875 \r\nz\r\n\" id=\"DejaVuSans-100\"/>\r\n      </defs>\r\n      <use xlink:href=\"#DejaVuSans-103\"/>\r\n      <use x=\"63.476562\" xlink:href=\"#DejaVuSans-117\"/>\r\n      <use x=\"126.855469\" xlink:href=\"#DejaVuSans-101\"/>\r\n      <use x=\"188.378906\" xlink:href=\"#DejaVuSans-115\"/>\r\n      <use x=\"240.478516\" xlink:href=\"#DejaVuSans-115\"/>\r\n      <use x=\"292.578125\" xlink:href=\"#DejaVuSans-95\"/>\r\n      <use x=\"342.578125\" xlink:href=\"#DejaVuSans-112\"/>\r\n      <use x=\"406.054688\" xlink:href=\"#DejaVuSans-97\"/>\r\n      <use x=\"467.333984\" xlink:href=\"#DejaVuSans-115\"/>\r\n      <use x=\"519.433594\" xlink:href=\"#DejaVuSans-115\"/>\r\n      <use x=\"571.533203\" xlink:href=\"#DejaVuSans-119\"/>\r\n      <use x=\"653.320312\" xlink:href=\"#DejaVuSans-100\"/>\r\n      <use x=\"716.796875\" xlink:href=\"#DejaVuSans-46\"/>\r\n     </g>\r\n    </g>\r\n    <g id=\"patch_78\">\r\n     <path d=\"M 853.2 78.345312 \r\nL 873.2 78.345312 \r\nL 873.2 71.345312 \r\nL 853.2 71.345312 \r\nz\r\n\" style=\"fill:#9467bd;\"/>\r\n    </g>\r\n    <g id=\"text_8\">\r\n     <!-- imap. -->\r\n     <g transform=\"translate(881.2 78.345312)scale(0.1 -0.1)\">\r\n      <defs>\r\n       <path d=\"M 52 44.1875 \r\nQ 55.375 50.25 60.0625 53.125 \r\nQ 64.75 56 71.09375 56 \r\nQ 79.640625 56 84.28125 50.015625 \r\nQ 88.921875 44.046875 88.921875 33.015625 \r\nL 88.921875 0 \r\nL 79.890625 0 \r\nL 79.890625 32.71875 \r\nQ 79.890625 40.578125 77.09375 44.375 \r\nQ 74.3125 48.1875 68.609375 48.1875 \r\nQ 61.625 48.1875 57.5625 43.546875 \r\nQ 53.515625 38.921875 53.515625 30.90625 \r\nL 53.515625 0 \r\nL 44.484375 0 \r\nL 44.484375 32.71875 \r\nQ 44.484375 40.625 41.703125 44.40625 \r\nQ 38.921875 48.1875 33.109375 48.1875 \r\nQ 26.21875 48.1875 22.15625 43.53125 \r\nQ 18.109375 38.875 18.109375 30.90625 \r\nL 18.109375 0 \r\nL 9.078125 0 \r\nL 9.078125 54.6875 \r\nL 18.109375 54.6875 \r\nL 18.109375 46.1875 \r\nQ 21.1875 51.21875 25.484375 53.609375 \r\nQ 29.78125 56 35.6875 56 \r\nQ 41.65625 56 45.828125 52.96875 \r\nQ 50 49.953125 52 44.1875 \r\nz\r\n\" id=\"DejaVuSans-109\"/>\r\n      </defs>\r\n      <use xlink:href=\"#DejaVuSans-105\"/>\r\n      <use x=\"27.783203\" xlink:href=\"#DejaVuSans-109\"/>\r\n      <use x=\"125.195312\" xlink:href=\"#DejaVuSans-97\"/>\r\n      <use x=\"186.474609\" xlink:href=\"#DejaVuSans-112\"/>\r\n      <use x=\"249.951172\" xlink:href=\"#DejaVuSans-46\"/>\r\n     </g>\r\n    </g>\r\n    <g id=\"patch_79\">\r\n     <path d=\"M 853.2 93.023437 \r\nL 873.2 93.023437 \r\nL 873.2 86.023437 \r\nL 853.2 86.023437 \r\nz\r\n\" style=\"fill:#8c564b;\"/>\r\n    </g>\r\n    <g id=\"text_9\">\r\n     <!-- ipsweep. -->\r\n     <g transform=\"translate(881.2 93.023437)scale(0.1 -0.1)\">\r\n      <use xlink:href=\"#DejaVuSans-105\"/>\r\n      <use x=\"27.783203\" xlink:href=\"#DejaVuSans-112\"/>\r\n      <use x=\"91.259766\" xlink:href=\"#DejaVuSans-115\"/>\r\n      <use x=\"143.359375\" xlink:href=\"#DejaVuSans-119\"/>\r\n      <use x=\"225.146484\" xlink:href=\"#DejaVuSans-101\"/>\r\n      <use x=\"286.669922\" xlink:href=\"#DejaVuSans-101\"/>\r\n      <use x=\"348.193359\" xlink:href=\"#DejaVuSans-112\"/>\r\n      <use x=\"411.669922\" xlink:href=\"#DejaVuSans-46\"/>\r\n     </g>\r\n    </g>\r\n    <g id=\"patch_80\">\r\n     <path d=\"M 853.2 107.701562 \r\nL 873.2 107.701562 \r\nL 873.2 100.701562 \r\nL 853.2 100.701562 \r\nz\r\n\" style=\"fill:#e377c2;\"/>\r\n    </g>\r\n    <g id=\"text_10\">\r\n     <!-- land. -->\r\n     <g transform=\"translate(881.2 107.701562)scale(0.1 -0.1)\">\r\n      <defs>\r\n       <path d=\"M 54.890625 33.015625 \r\nL 54.890625 0 \r\nL 45.90625 0 \r\nL 45.90625 32.71875 \r\nQ 45.90625 40.484375 42.875 44.328125 \r\nQ 39.84375 48.1875 33.796875 48.1875 \r\nQ 26.515625 48.1875 22.3125 43.546875 \r\nQ 18.109375 38.921875 18.109375 30.90625 \r\nL 18.109375 0 \r\nL 9.078125 0 \r\nL 9.078125 54.6875 \r\nL 18.109375 54.6875 \r\nL 18.109375 46.1875 \r\nQ 21.34375 51.125 25.703125 53.5625 \r\nQ 30.078125 56 35.796875 56 \r\nQ 45.21875 56 50.046875 50.171875 \r\nQ 54.890625 44.34375 54.890625 33.015625 \r\nz\r\n\" id=\"DejaVuSans-110\"/>\r\n      </defs>\r\n      <use xlink:href=\"#DejaVuSans-108\"/>\r\n      <use x=\"27.783203\" xlink:href=\"#DejaVuSans-97\"/>\r\n      <use x=\"89.0625\" xlink:href=\"#DejaVuSans-110\"/>\r\n      <use x=\"152.441406\" xlink:href=\"#DejaVuSans-100\"/>\r\n      <use x=\"215.917969\" xlink:href=\"#DejaVuSans-46\"/>\r\n     </g>\r\n    </g>\r\n    <g id=\"patch_81\">\r\n     <path d=\"M 853.2 122.379687 \r\nL 873.2 122.379687 \r\nL 873.2 115.379687 \r\nL 853.2 115.379687 \r\nz\r\n\" style=\"fill:#7f7f7f;\"/>\r\n    </g>\r\n    <g id=\"text_11\">\r\n     <!-- loadmodule. -->\r\n     <g transform=\"translate(881.2 122.379687)scale(0.1 -0.1)\">\r\n      <use xlink:href=\"#DejaVuSans-108\"/>\r\n      <use x=\"27.783203\" xlink:href=\"#DejaVuSans-111\"/>\r\n      <use x=\"88.964844\" xlink:href=\"#DejaVuSans-97\"/>\r\n      <use x=\"150.244141\" xlink:href=\"#DejaVuSans-100\"/>\r\n      <use x=\"213.720703\" xlink:href=\"#DejaVuSans-109\"/>\r\n      <use x=\"311.132812\" xlink:href=\"#DejaVuSans-111\"/>\r\n      <use x=\"372.314453\" xlink:href=\"#DejaVuSans-100\"/>\r\n      <use x=\"435.791016\" xlink:href=\"#DejaVuSans-117\"/>\r\n      <use x=\"499.169922\" xlink:href=\"#DejaVuSans-108\"/>\r\n      <use x=\"526.953125\" xlink:href=\"#DejaVuSans-101\"/>\r\n      <use x=\"588.476562\" xlink:href=\"#DejaVuSans-46\"/>\r\n     </g>\r\n    </g>\r\n    <g id=\"patch_82\">\r\n     <path d=\"M 853.2 137.057812 \r\nL 873.2 137.057812 \r\nL 873.2 130.057812 \r\nL 853.2 130.057812 \r\nz\r\n\" style=\"fill:#bcbd22;\"/>\r\n    </g>\r\n    <g id=\"text_12\">\r\n     <!-- multihop. -->\r\n     <g transform=\"translate(881.2 137.057812)scale(0.1 -0.1)\">\r\n      <defs>\r\n       <path d=\"M 54.890625 33.015625 \r\nL 54.890625 0 \r\nL 45.90625 0 \r\nL 45.90625 32.71875 \r\nQ 45.90625 40.484375 42.875 44.328125 \r\nQ 39.84375 48.1875 33.796875 48.1875 \r\nQ 26.515625 48.1875 22.3125 43.546875 \r\nQ 18.109375 38.921875 18.109375 30.90625 \r\nL 18.109375 0 \r\nL 9.078125 0 \r\nL 9.078125 75.984375 \r\nL 18.109375 75.984375 \r\nL 18.109375 46.1875 \r\nQ 21.34375 51.125 25.703125 53.5625 \r\nQ 30.078125 56 35.796875 56 \r\nQ 45.21875 56 50.046875 50.171875 \r\nQ 54.890625 44.34375 54.890625 33.015625 \r\nz\r\n\" id=\"DejaVuSans-104\"/>\r\n      </defs>\r\n      <use xlink:href=\"#DejaVuSans-109\"/>\r\n      <use x=\"97.412109\" xlink:href=\"#DejaVuSans-117\"/>\r\n      <use x=\"160.791016\" xlink:href=\"#DejaVuSans-108\"/>\r\n      <use x=\"188.574219\" xlink:href=\"#DejaVuSans-116\"/>\r\n      <use x=\"227.783203\" xlink:href=\"#DejaVuSans-105\"/>\r\n      <use x=\"255.566406\" xlink:href=\"#DejaVuSans-104\"/>\r\n      <use x=\"318.945312\" xlink:href=\"#DejaVuSans-111\"/>\r\n      <use x=\"380.126953\" xlink:href=\"#DejaVuSans-112\"/>\r\n      <use x=\"443.603516\" xlink:href=\"#DejaVuSans-46\"/>\r\n     </g>\r\n    </g>\r\n    <g id=\"patch_83\">\r\n     <path d=\"M 853.2 151.735937 \r\nL 873.2 151.735937 \r\nL 873.2 144.735937 \r\nL 853.2 144.735937 \r\nz\r\n\" style=\"fill:#17becf;\"/>\r\n    </g>\r\n    <g id=\"text_13\">\r\n     <!-- neptune. -->\r\n     <g transform=\"translate(881.2 151.735937)scale(0.1 -0.1)\">\r\n      <use xlink:href=\"#DejaVuSans-110\"/>\r\n      <use x=\"63.378906\" xlink:href=\"#DejaVuSans-101\"/>\r\n      <use x=\"124.902344\" xlink:href=\"#DejaVuSans-112\"/>\r\n      <use x=\"188.378906\" xlink:href=\"#DejaVuSans-116\"/>\r\n      <use x=\"227.587891\" xlink:href=\"#DejaVuSans-117\"/>\r\n      <use x=\"290.966797\" xlink:href=\"#DejaVuSans-110\"/>\r\n      <use x=\"354.345703\" xlink:href=\"#DejaVuSans-101\"/>\r\n      <use x=\"415.869141\" xlink:href=\"#DejaVuSans-46\"/>\r\n     </g>\r\n    </g>\r\n    <g id=\"patch_84\">\r\n     <path d=\"M 853.2 166.414062 \r\nL 873.2 166.414062 \r\nL 873.2 159.414062 \r\nL 853.2 159.414062 \r\nz\r\n\" style=\"fill:#1f77b4;\"/>\r\n    </g>\r\n    <g id=\"text_14\">\r\n     <!-- nmap. -->\r\n     <g transform=\"translate(881.2 166.414062)scale(0.1 -0.1)\">\r\n      <use xlink:href=\"#DejaVuSans-110\"/>\r\n      <use x=\"63.378906\" xlink:href=\"#DejaVuSans-109\"/>\r\n      <use x=\"160.791016\" xlink:href=\"#DejaVuSans-97\"/>\r\n      <use x=\"222.070312\" xlink:href=\"#DejaVuSans-112\"/>\r\n      <use x=\"285.546875\" xlink:href=\"#DejaVuSans-46\"/>\r\n     </g>\r\n    </g>\r\n    <g id=\"patch_85\">\r\n     <path d=\"M 853.2 181.092187 \r\nL 873.2 181.092187 \r\nL 873.2 174.092187 \r\nL 853.2 174.092187 \r\nz\r\n\" style=\"fill:#ff7f0e;\"/>\r\n    </g>\r\n    <g id=\"text_15\">\r\n     <!-- normal. -->\r\n     <g transform=\"translate(881.2 181.092187)scale(0.1 -0.1)\">\r\n      <use xlink:href=\"#DejaVuSans-110\"/>\r\n      <use x=\"63.378906\" xlink:href=\"#DejaVuSans-111\"/>\r\n      <use x=\"124.560547\" xlink:href=\"#DejaVuSans-114\"/>\r\n      <use x=\"163.923828\" xlink:href=\"#DejaVuSans-109\"/>\r\n      <use x=\"261.335938\" xlink:href=\"#DejaVuSans-97\"/>\r\n      <use x=\"322.615234\" xlink:href=\"#DejaVuSans-108\"/>\r\n      <use x=\"350.398438\" xlink:href=\"#DejaVuSans-46\"/>\r\n     </g>\r\n    </g>\r\n    <g id=\"patch_86\">\r\n     <path d=\"M 853.2 195.770312 \r\nL 873.2 195.770312 \r\nL 873.2 188.770312 \r\nL 853.2 188.770312 \r\nz\r\n\" style=\"fill:#2ca02c;\"/>\r\n    </g>\r\n    <g id=\"text_16\">\r\n     <!-- perl. -->\r\n     <g transform=\"translate(881.2 195.770312)scale(0.1 -0.1)\">\r\n      <use xlink:href=\"#DejaVuSans-112\"/>\r\n      <use x=\"63.476562\" xlink:href=\"#DejaVuSans-101\"/>\r\n      <use x=\"125\" xlink:href=\"#DejaVuSans-114\"/>\r\n      <use x=\"166.113281\" xlink:href=\"#DejaVuSans-108\"/>\r\n      <use x=\"193.896484\" xlink:href=\"#DejaVuSans-46\"/>\r\n     </g>\r\n    </g>\r\n    <g id=\"patch_87\">\r\n     <path d=\"M 853.2 210.448437 \r\nL 873.2 210.448437 \r\nL 873.2 203.448437 \r\nL 853.2 203.448437 \r\nz\r\n\" style=\"fill:#d62728;\"/>\r\n    </g>\r\n    <g id=\"text_17\">\r\n     <!-- phf. -->\r\n     <g transform=\"translate(881.2 210.448437)scale(0.1 -0.1)\">\r\n      <use xlink:href=\"#DejaVuSans-112\"/>\r\n      <use x=\"63.476562\" xlink:href=\"#DejaVuSans-104\"/>\r\n      <use x=\"126.855469\" xlink:href=\"#DejaVuSans-102\"/>\r\n      <use x=\"154.810547\" xlink:href=\"#DejaVuSans-46\"/>\r\n     </g>\r\n    </g>\r\n    <g id=\"patch_88\">\r\n     <path d=\"M 853.2 225.126562 \r\nL 873.2 225.126562 \r\nL 873.2 218.126562 \r\nL 853.2 218.126562 \r\nz\r\n\" style=\"fill:#9467bd;\"/>\r\n    </g>\r\n    <g id=\"text_18\">\r\n     <!-- pod. -->\r\n     <g transform=\"translate(881.2 225.126562)scale(0.1 -0.1)\">\r\n      <use xlink:href=\"#DejaVuSans-112\"/>\r\n      <use x=\"63.476562\" xlink:href=\"#DejaVuSans-111\"/>\r\n      <use x=\"124.658203\" xlink:href=\"#DejaVuSans-100\"/>\r\n      <use x=\"188.134766\" xlink:href=\"#DejaVuSans-46\"/>\r\n     </g>\r\n    </g>\r\n    <g id=\"patch_89\">\r\n     <path d=\"M 853.2 239.804687 \r\nL 873.2 239.804687 \r\nL 873.2 232.804687 \r\nL 853.2 232.804687 \r\nz\r\n\" style=\"fill:#8c564b;\"/>\r\n    </g>\r\n    <g id=\"text_19\">\r\n     <!-- portsweep. -->\r\n     <g transform=\"translate(881.2 239.804687)scale(0.1 -0.1)\">\r\n      <use xlink:href=\"#DejaVuSans-112\"/>\r\n      <use x=\"63.476562\" xlink:href=\"#DejaVuSans-111\"/>\r\n      <use x=\"124.658203\" xlink:href=\"#DejaVuSans-114\"/>\r\n      <use x=\"165.771484\" xlink:href=\"#DejaVuSans-116\"/>\r\n      <use x=\"204.980469\" xlink:href=\"#DejaVuSans-115\"/>\r\n      <use x=\"257.080078\" xlink:href=\"#DejaVuSans-119\"/>\r\n      <use x=\"338.867188\" xlink:href=\"#DejaVuSans-101\"/>\r\n      <use x=\"400.390625\" xlink:href=\"#DejaVuSans-101\"/>\r\n      <use x=\"461.914062\" xlink:href=\"#DejaVuSans-112\"/>\r\n      <use x=\"525.390625\" xlink:href=\"#DejaVuSans-46\"/>\r\n     </g>\r\n    </g>\r\n    <g id=\"patch_90\">\r\n     <path d=\"M 853.2 254.482812 \r\nL 873.2 254.482812 \r\nL 873.2 247.482812 \r\nL 853.2 247.482812 \r\nz\r\n\" style=\"fill:#e377c2;\"/>\r\n    </g>\r\n    <g id=\"text_20\">\r\n     <!-- rootkit. -->\r\n     <g transform=\"translate(881.2 254.482812)scale(0.1 -0.1)\">\r\n      <use xlink:href=\"#DejaVuSans-114\"/>\r\n      <use x=\"38.863281\" xlink:href=\"#DejaVuSans-111\"/>\r\n      <use x=\"100.044922\" xlink:href=\"#DejaVuSans-111\"/>\r\n      <use x=\"161.226562\" xlink:href=\"#DejaVuSans-116\"/>\r\n      <use x=\"200.435547\" xlink:href=\"#DejaVuSans-107\"/>\r\n      <use x=\"258.345703\" xlink:href=\"#DejaVuSans-105\"/>\r\n      <use x=\"286.128906\" xlink:href=\"#DejaVuSans-116\"/>\r\n      <use x=\"325.337891\" xlink:href=\"#DejaVuSans-46\"/>\r\n     </g>\r\n    </g>\r\n    <g id=\"patch_91\">\r\n     <path d=\"M 853.2 269.160937 \r\nL 873.2 269.160937 \r\nL 873.2 262.160937 \r\nL 853.2 262.160937 \r\nz\r\n\" style=\"fill:#7f7f7f;\"/>\r\n    </g>\r\n    <g id=\"text_21\">\r\n     <!-- satan. -->\r\n     <g transform=\"translate(881.2 269.160937)scale(0.1 -0.1)\">\r\n      <use xlink:href=\"#DejaVuSans-115\"/>\r\n      <use x=\"52.099609\" xlink:href=\"#DejaVuSans-97\"/>\r\n      <use x=\"113.378906\" xlink:href=\"#DejaVuSans-116\"/>\r\n      <use x=\"152.587891\" xlink:href=\"#DejaVuSans-97\"/>\r\n      <use x=\"213.867188\" xlink:href=\"#DejaVuSans-110\"/>\r\n      <use x=\"277.246094\" xlink:href=\"#DejaVuSans-46\"/>\r\n     </g>\r\n    </g>\r\n    <g id=\"patch_92\">\r\n     <path d=\"M 853.2 283.839062 \r\nL 873.2 283.839062 \r\nL 873.2 276.839062 \r\nL 853.2 276.839062 \r\nz\r\n\" style=\"fill:#bcbd22;\"/>\r\n    </g>\r\n    <g id=\"text_22\">\r\n     <!-- smurf. -->\r\n     <g transform=\"translate(881.2 283.839062)scale(0.1 -0.1)\">\r\n      <use xlink:href=\"#DejaVuSans-115\"/>\r\n      <use x=\"52.099609\" xlink:href=\"#DejaVuSans-109\"/>\r\n      <use x=\"149.511719\" xlink:href=\"#DejaVuSans-117\"/>\r\n      <use x=\"212.890625\" xlink:href=\"#DejaVuSans-114\"/>\r\n      <use x=\"254.003906\" xlink:href=\"#DejaVuSans-102\"/>\r\n      <use x=\"281.958984\" xlink:href=\"#DejaVuSans-46\"/>\r\n     </g>\r\n    </g>\r\n    <g id=\"patch_93\">\r\n     <path d=\"M 853.2 298.517187 \r\nL 873.2 298.517187 \r\nL 873.2 291.517187 \r\nL 853.2 291.517187 \r\nz\r\n\" style=\"fill:#17becf;\"/>\r\n    </g>\r\n    <g id=\"text_23\">\r\n     <!-- spy. -->\r\n     <g transform=\"translate(881.2 298.517187)scale(0.1 -0.1)\">\r\n      <defs>\r\n       <path d=\"M 32.171875 -5.078125 \r\nQ 28.375 -14.84375 24.75 -17.8125 \r\nQ 21.140625 -20.796875 15.09375 -20.796875 \r\nL 7.90625 -20.796875 \r\nL 7.90625 -13.28125 \r\nL 13.1875 -13.28125 \r\nQ 16.890625 -13.28125 18.9375 -11.515625 \r\nQ 21 -9.765625 23.484375 -3.21875 \r\nL 25.09375 0.875 \r\nL 2.984375 54.6875 \r\nL 12.5 54.6875 \r\nL 29.59375 11.921875 \r\nL 46.6875 54.6875 \r\nL 56.203125 54.6875 \r\nz\r\n\" id=\"DejaVuSans-121\"/>\r\n      </defs>\r\n      <use xlink:href=\"#DejaVuSans-115\"/>\r\n      <use x=\"52.099609\" xlink:href=\"#DejaVuSans-112\"/>\r\n      <use x=\"115.576172\" xlink:href=\"#DejaVuSans-121\"/>\r\n      <use x=\"160.505859\" xlink:href=\"#DejaVuSans-46\"/>\r\n     </g>\r\n    </g>\r\n    <g id=\"patch_94\">\r\n     <path d=\"M 853.2 313.195312 \r\nL 873.2 313.195312 \r\nL 873.2 306.195312 \r\nL 853.2 306.195312 \r\nz\r\n\" style=\"fill:#1f77b4;\"/>\r\n    </g>\r\n    <g id=\"text_24\">\r\n     <!-- teardrop. -->\r\n     <g transform=\"translate(881.2 313.195312)scale(0.1 -0.1)\">\r\n      <use xlink:href=\"#DejaVuSans-116\"/>\r\n      <use x=\"39.208984\" xlink:href=\"#DejaVuSans-101\"/>\r\n      <use x=\"100.732422\" xlink:href=\"#DejaVuSans-97\"/>\r\n      <use x=\"162.011719\" xlink:href=\"#DejaVuSans-114\"/>\r\n      <use x=\"201.375\" xlink:href=\"#DejaVuSans-100\"/>\r\n      <use x=\"264.851562\" xlink:href=\"#DejaVuSans-114\"/>\r\n      <use x=\"303.714844\" xlink:href=\"#DejaVuSans-111\"/>\r\n      <use x=\"364.896484\" xlink:href=\"#DejaVuSans-112\"/>\r\n      <use x=\"428.373047\" xlink:href=\"#DejaVuSans-46\"/>\r\n     </g>\r\n    </g>\r\n    <g id=\"patch_95\">\r\n     <path d=\"M 853.2 327.873437 \r\nL 873.2 327.873437 \r\nL 873.2 320.873437 \r\nL 853.2 320.873437 \r\nz\r\n\" style=\"fill:#ff7f0e;\"/>\r\n    </g>\r\n    <g id=\"text_25\">\r\n     <!-- warezclient. -->\r\n     <g transform=\"translate(881.2 327.873437)scale(0.1 -0.1)\">\r\n      <defs>\r\n       <path d=\"M 5.515625 54.6875 \r\nL 48.1875 54.6875 \r\nL 48.1875 46.484375 \r\nL 14.40625 7.171875 \r\nL 48.1875 7.171875 \r\nL 48.1875 0 \r\nL 4.296875 0 \r\nL 4.296875 8.203125 \r\nL 38.09375 47.515625 \r\nL 5.515625 47.515625 \r\nz\r\n\" id=\"DejaVuSans-122\"/>\r\n      </defs>\r\n      <use xlink:href=\"#DejaVuSans-119\"/>\r\n      <use x=\"81.787109\" xlink:href=\"#DejaVuSans-97\"/>\r\n      <use x=\"143.066406\" xlink:href=\"#DejaVuSans-114\"/>\r\n      <use x=\"181.929688\" xlink:href=\"#DejaVuSans-101\"/>\r\n      <use x=\"243.453125\" xlink:href=\"#DejaVuSans-122\"/>\r\n      <use x=\"295.943359\" xlink:href=\"#DejaVuSans-99\"/>\r\n      <use x=\"350.923828\" xlink:href=\"#DejaVuSans-108\"/>\r\n      <use x=\"378.707031\" xlink:href=\"#DejaVuSans-105\"/>\r\n      <use x=\"406.490234\" xlink:href=\"#DejaVuSans-101\"/>\r\n      <use x=\"468.013672\" xlink:href=\"#DejaVuSans-110\"/>\r\n      <use x=\"531.392578\" xlink:href=\"#DejaVuSans-116\"/>\r\n      <use x=\"570.601562\" xlink:href=\"#DejaVuSans-46\"/>\r\n     </g>\r\n    </g>\r\n    <g id=\"patch_96\">\r\n     <path d=\"M 853.2 342.551562 \r\nL 873.2 342.551562 \r\nL 873.2 335.551562 \r\nL 853.2 335.551562 \r\nz\r\n\" style=\"fill:#2ca02c;\"/>\r\n    </g>\r\n    <g id=\"text_26\">\r\n     <!-- warezmaster. -->\r\n     <g transform=\"translate(881.2 342.551562)scale(0.1 -0.1)\">\r\n      <use xlink:href=\"#DejaVuSans-119\"/>\r\n      <use x=\"81.787109\" xlink:href=\"#DejaVuSans-97\"/>\r\n      <use x=\"143.066406\" xlink:href=\"#DejaVuSans-114\"/>\r\n      <use x=\"181.929688\" xlink:href=\"#DejaVuSans-101\"/>\r\n      <use x=\"243.453125\" xlink:href=\"#DejaVuSans-122\"/>\r\n      <use x=\"295.943359\" xlink:href=\"#DejaVuSans-109\"/>\r\n      <use x=\"393.355469\" xlink:href=\"#DejaVuSans-97\"/>\r\n      <use x=\"454.634766\" xlink:href=\"#DejaVuSans-115\"/>\r\n      <use x=\"506.734375\" xlink:href=\"#DejaVuSans-116\"/>\r\n      <use x=\"545.943359\" xlink:href=\"#DejaVuSans-101\"/>\r\n      <use x=\"607.466797\" xlink:href=\"#DejaVuSans-114\"/>\r\n      <use x=\"639.455078\" xlink:href=\"#DejaVuSans-46\"/>\r\n     </g>\r\n    </g>\r\n   </g>\r\n  </g>\r\n </g>\r\n</svg>\r\n",
      "image/png": "[encoded data removed]"
     },
     "metadata": {}
    }
   ],
   "source": [
    "ax = protocol_type_and_attack.copy()\n",
    "ax.reset_index(drop=True)\n",
    "ax.columns = [''] * len(ax.columns)\n",
    "ax.plot(kind='pie',labels=None,subplots=True,figsize=(15,10),title=['ICMP','TCP', 'UDP'])\n",
    "plt.legend(loc='center left',labels=protocol_type_and_attack.index,bbox_to_anchor=(1, 0.5))"
   ]
  },
  {
   "cell_type": "code",
   "execution_count": 31,
   "metadata": {},
   "outputs": [
    {
     "output_type": "execute_result",
     "data": {
      "text/plain": [
       "   duration protocol_type service flag  src_bytes  dst_bytes  land  \\\n",
       "0         0           tcp    http   SF        181       5450     0   \n",
       "1         0           tcp    http   SF        239        486     0   \n",
       "2         0           tcp    http   SF        235       1337     0   \n",
       "\n",
       "   wrong_fragment  urgent  hot  ...  dst_host_same_srv_rate  \\\n",
       "0               0       0    0  ...                     1.0   \n",
       "1               0       0    0  ...                     1.0   \n",
       "2               0       0    0  ...                     1.0   \n",
       "\n",
       "   dst_host_diff_srv_rate  dst_host_same_src_port_rate  \\\n",
       "0                     0.0                         0.11   \n",
       "1                     0.0                         0.05   \n",
       "2                     0.0                         0.03   \n",
       "\n",
       "   dst_host_srv_diff_host_rate  dst_host_serror_rate  \\\n",
       "0                          0.0                   0.0   \n",
       "1                          0.0                   0.0   \n",
       "2                          0.0                   0.0   \n",
       "\n",
       "   dst_host_srv_serror_rate  dst_host_rerror_rate  dst_host_srv_rerror_rate  \\\n",
       "0                       0.0                   0.0                       0.0   \n",
       "1                       0.0                   0.0                       0.0   \n",
       "2                       0.0                   0.0                       0.0   \n",
       "\n",
       "    attack  attacks  \n",
       "0  normal.        0  \n",
       "1  normal.        0  \n",
       "2  normal.        0  \n",
       "\n",
       "[3 rows x 43 columns]"
      ],
      "text/html": "<div>\n<style scoped>\n    .dataframe tbody tr th:only-of-type {\n        vertical-align: middle;\n    }\n\n    .dataframe tbody tr th {\n        vertical-align: top;\n    }\n\n    .dataframe thead th {\n        text-align: right;\n    }\n</style>\n<table border=\"1\" class=\"dataframe\">\n  <thead>\n    <tr style=\"text-align: right;\">\n      <th></th>\n      <th>duration</th>\n      <th>protocol_type</th>\n      <th>service</th>\n      <th>flag</th>\n      <th>src_bytes</th>\n      <th>dst_bytes</th>\n      <th>land</th>\n      <th>wrong_fragment</th>\n      <th>urgent</th>\n      <th>hot</th>\n      <th>...</th>\n      <th>dst_host_same_srv_rate</th>\n      <th>dst_host_diff_srv_rate</th>\n      <th>dst_host_same_src_port_rate</th>\n      <th>dst_host_srv_diff_host_rate</th>\n      <th>dst_host_serror_rate</th>\n      <th>dst_host_srv_serror_rate</th>\n      <th>dst_host_rerror_rate</th>\n      <th>dst_host_srv_rerror_rate</th>\n      <th>attack</th>\n      <th>attacks</th>\n    </tr>\n  </thead>\n  <tbody>\n    <tr>\n      <th>0</th>\n      <td>0</td>\n      <td>tcp</td>\n      <td>http</td>\n      <td>SF</td>\n      <td>181</td>\n      <td>5450</td>\n      <td>0</td>\n      <td>0</td>\n      <td>0</td>\n      <td>0</td>\n      <td>...</td>\n      <td>1.0</td>\n      <td>0.0</td>\n      <td>0.11</td>\n      <td>0.0</td>\n      <td>0.0</td>\n      <td>0.0</td>\n      <td>0.0</td>\n      <td>0.0</td>\n      <td>normal.</td>\n      <td>0</td>\n    </tr>\n    <tr>\n      <th>1</th>\n      <td>0</td>\n      <td>tcp</td>\n      <td>http</td>\n      <td>SF</td>\n      <td>239</td>\n      <td>486</td>\n      <td>0</td>\n      <td>0</td>\n      <td>0</td>\n      <td>0</td>\n      <td>...</td>\n      <td>1.0</td>\n      <td>0.0</td>\n      <td>0.05</td>\n      <td>0.0</td>\n      <td>0.0</td>\n      <td>0.0</td>\n      <td>0.0</td>\n      <td>0.0</td>\n      <td>normal.</td>\n      <td>0</td>\n    </tr>\n    <tr>\n      <th>2</th>\n      <td>0</td>\n      <td>tcp</td>\n      <td>http</td>\n      <td>SF</td>\n      <td>235</td>\n      <td>1337</td>\n      <td>0</td>\n      <td>0</td>\n      <td>0</td>\n      <td>0</td>\n      <td>...</td>\n      <td>1.0</td>\n      <td>0.0</td>\n      <td>0.03</td>\n      <td>0.0</td>\n      <td>0.0</td>\n      <td>0.0</td>\n      <td>0.0</td>\n      <td>0.0</td>\n      <td>normal.</td>\n      <td>0</td>\n    </tr>\n  </tbody>\n</table>\n<p>3 rows × 43 columns</p>\n</div>"
     },
     "metadata": {},
     "execution_count": 31
    }
   ],
   "source": [
    "MydataTraining.head(3)"
   ]
  },
  {
   "cell_type": "code",
   "execution_count": null,
   "metadata": {},
   "outputs": [],
   "source": []
  }
 ]
}